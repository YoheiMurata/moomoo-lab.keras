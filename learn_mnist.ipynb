{
  "nbformat": 4,
  "nbformat_minor": 0,
  "metadata": {
    "colab": {
      "name": "learn-mnist.ipynb",
      "provenance": [],
      "collapsed_sections": [],
      "include_colab_link": true
    },
    "kernelspec": {
      "name": "python3",
      "display_name": "Python 3"
    },
    "accelerator": "GPU"
  },
  "cells": [
    {
      "cell_type": "markdown",
      "metadata": {
        "id": "view-in-github",
        "colab_type": "text"
      },
      "source": [
        "<a href=\"https://colab.research.google.com/github/YoheiMurata/moomoo-lab.keras/blob/master/learn_mnist.ipynb\" target=\"_parent\"><img src=\"https://colab.research.google.com/assets/colab-badge.svg\" alt=\"Open In Colab\"/></a>"
      ]
    },
    {
      "cell_type": "markdown",
      "metadata": {
        "id": "w0y9luipRwwR",
        "colab_type": "text"
      },
      "source": [
        "# ディープラーニング事始め：MNISTを学習させてみよう\n",
        "初めてKeras + TensorFlowでディープラーニングをするにあたり、まずはMNISTを学習させて、手書き数字の識別をさせてみましょう。"
      ]
    },
    {
      "cell_type": "code",
      "metadata": {
        "id": "s4XiudblR1Uy",
        "colab_type": "code",
        "colab": {}
      },
      "source": [
        "# 必要なライブラリをインポート\n",
        "import keras\n",
        "# Kerasで標準に用意されているMNISTのライブラリを利用\n",
        "from keras.datasets import mnist\n",
        "#　各レイヤーなどのインポート\n",
        "from keras.models import Sequential\n",
        "from keras.optimizers import Adam\n",
        "from keras.callbacks import TensorBoard\n",
        "from keras.layers import MaxPooling2D\n",
        "from keras.layers.convolutional import Conv2D\n",
        "from keras.layers.core import Dense, Activation, Dropout, Flatten\n",
        "from time import gmtime, strftime\n",
        "from keras.utils import np_utils\n",
        "#  グラフ表示のためのライブラリ\n",
        "import matplotlib.pyplot as plt\n",
        "import matplotlib\n",
        "import numpy as np\n",
        "import os"
      ],
      "execution_count": 0,
      "outputs": []
    },
    {
      "cell_type": "markdown",
      "metadata": {
        "id": "Xgcxoepmdjeq",
        "colab_type": "text"
      },
      "source": [
        "#MNISTのデータセットを取得\n",
        "mnist.load_data（）でMNISTのデータセットをダウンロードし、各変数（x_train, y_train), (x_test, y_test)に代入します。\n",
        "\n",
        "各変数はそれぞれx_train, y_trainはテスト用の画像およびラベル情報、x_test, y_testは検証用データになります"
      ]
    },
    {
      "cell_type": "code",
      "metadata": {
        "id": "k-eDUY3ygl1U",
        "colab_type": "code",
        "colab": {}
      },
      "source": [
        "(x_train, y_train), (x_test, y_test) = mnist.load_data()"
      ],
      "execution_count": 0,
      "outputs": []
    },
    {
      "cell_type": "markdown",
      "metadata": {
        "id": "g-pwGmEeTtfS",
        "colab_type": "text"
      },
      "source": [
        "取得したデータセットの画像の形式は（データ数、縦のピクセル数、横のピクセル数）となっており、チャネル数が存在しない。\n",
        "\n",
        "学習の際にはチャネル数が必要なので、末尾に１次元追加して（データ数、縦のピクセル、横のピクセル、チャネル数＝１）とします。\n",
        "（MNISTは白黒画像なので、チャネル数=1となります）\n",
        "\n"
      ]
    },
    {
      "cell_type": "code",
      "metadata": {
        "id": "1YQZKiVMnqUC",
        "colab_type": "code",
        "outputId": "d32e3060-9566-470a-cfd2-ea6cdfefe709",
        "colab": {
          "base_uri": "https://localhost:8080/",
          "height": 282
        }
      },
      "source": [
        "x_train = x_train.reshape(60000, 28, 28, 1)\n",
        "x_test = x_test.reshape(10000, 28, 28, 1)\n",
        "#  試しに５番目の画像を出力してみます\n",
        "plt.imshow(np.asarray(x_train[5].reshape(28, 28)))"
      ],
      "execution_count": 30,
      "outputs": [
        {
          "output_type": "execute_result",
          "data": {
            "text/plain": [
              "<matplotlib.image.AxesImage at 0x7f619e5a36d8>"
            ]
          },
          "metadata": {
            "tags": []
          },
          "execution_count": 30
        },
        {
          "output_type": "display_data",
          "data": {
            "image/png": "[encoded data removed]",
            "text/plain": [
              "<Figure size 432x288 with 1 Axes>"
            ]
          },
          "metadata": {
            "tags": []
          }
        }
      ]
    },
    {
      "cell_type": "markdown",
      "metadata": {
        "id": "IlAcSEGcVbVh",
        "colab_type": "text"
      },
      "source": [
        "# ラベル情報の編集\n",
        "MNISTのラベル情報を、one-hot表現というものに加工します。\n",
        "\n",
        "one-hot表現とは、あるベクトルの中で該当する値だけが1で、そのほかは０となっているような表現です。\n",
        "例えば、画像x_trainは０〜９の10種類の画像があり、x_train[5]は「２」の画像です、それに対応したラベル情報y_train[5]をone-hot表現にすると[0, 0, 1, 0, 0, 0, 0, 0, 0, 0, 0]となります。"
      ]
    },
    {
      "cell_type": "code",
      "metadata": {
        "id": "jSWP0ZAC5F8G",
        "colab_type": "code",
        "colab": {
          "base_uri": "https://localhost:8080/",
          "height": 34
        },
        "outputId": "a2e89370-8292-4078-cca7-fd2a67e0c363"
      },
      "source": [
        "# ラベル情報を長さ１０のone-hot表現に変換します\n",
        "y_train = np_utils.to_categorical(y_train, 10)\n",
        "y_test = np_utils.to_categorical(y_test, 10)\n",
        "# 「２」の画像に対するラベル情報を試しに出力してみる\n",
        "y_train[5]"
      ],
      "execution_count": 31,
      "outputs": [
        {
          "output_type": "execute_result",
          "data": {
            "text/plain": [
              "array([0., 0., 1., 0., 0., 0., 0., 0., 0., 0.], dtype=float32)"
            ]
          },
          "metadata": {
            "tags": []
          },
          "execution_count": 31
        }
      ]
    },
    {
      "cell_type": "markdown",
      "metadata": {
        "id": "53QDXZtoY27_",
        "colab_type": "text"
      },
      "source": [
        "# 画像データの正規化\n",
        "画像内の各ピクセルの値は、０〜２５５となっています。\n",
        "このままだと値が大きすぎるため、学習をする際に精度が落ちる可能性があります。\n",
        "\n",
        "そのため、各画像のピクセルの値が０〜１となるように正規化します。\n",
        "\n"
      ]
    },
    {
      "cell_type": "code",
      "metadata": {
        "id": "ar_Xij5mnV0p",
        "colab_type": "code",
        "colab": {}
      },
      "source": [
        "x_train.astype('float32')\n",
        "x_test.astype('float32')\n",
        "x_train = x_train / 255\n",
        "x_test = x_test / 255"
      ],
      "execution_count": 0,
      "outputs": []
    },
    {
      "cell_type": "markdown",
      "metadata": {
        "id": "IAdSaHJXZfOc",
        "colab_type": "text"
      },
      "source": [
        "# ニューラルネットワークの定義\n",
        "MNISTの学習のための簡単なニューラルネットワークを定義します。"
      ]
    },
    {
      "cell_type": "code",
      "metadata": {
        "id": "lKxaAlNXp7oT",
        "colab_type": "code",
        "colab": {}
      },
      "source": [
        "model = Sequential()\n",
        "model.add(Conv2D(32, kernel_size=(3, 3),\n",
        "                 activation='relu',\n",
        "                 input_shape=(28,28,1)))\n",
        "model.add(Conv2D(64, (3, 3), activation='relu'))\n",
        "model.add(MaxPooling2D(pool_size=(2, 2)))\n",
        "model.add(Dropout(0.25))\n",
        "model.add(Flatten())\n",
        "model.add(Dense(128, activation='relu'))\n",
        "model.add(Dense(256, activation='relu'))\n",
        "model.add(Dropout(0.5))\n",
        "model.add(Dense(10, activation='softmax'))\n",
        "\n",
        "adam = Adam( lr = 1e-4 )\n",
        "\n",
        "model.compile( optimizer = adam, loss = 'categorical_crossentropy', metrics = [ 'accuracy' ] )"
      ],
      "execution_count": 0,
      "outputs": []
    },
    {
      "cell_type": "code",
      "metadata": {
        "id": "_6wKQLIruc3a",
        "colab_type": "code",
        "outputId": "09ab0222-2591-4bef-c970-852cb68a490c",
        "colab": {
          "base_uri": "https://localhost:8080/",
          "height": 459
        }
      },
      "source": [
        "model.summary()"
      ],
      "execution_count": 34,
      "outputs": [
        {
          "output_type": "stream",
          "text": [
            "Model: \"sequential_2\"\n",
            "_________________________________________________________________\n",
            "Layer (type)                 Output Shape              Param #   \n",
            "=================================================================\n",
            "conv2d_3 (Conv2D)            (None, 26, 26, 32)        320       \n",
            "_________________________________________________________________\n",
            "conv2d_4 (Conv2D)            (None, 24, 24, 64)        18496     \n",
            "_________________________________________________________________\n",
            "max_pooling2d_2 (MaxPooling2 (None, 12, 12, 64)        0         \n",
            "_________________________________________________________________\n",
            "dropout_3 (Dropout)          (None, 12, 12, 64)        0         \n",
            "_________________________________________________________________\n",
            "flatten_2 (Flatten)          (None, 9216)              0         \n",
            "_________________________________________________________________\n",
            "dense_3 (Dense)              (None, 128)               1179776   \n",
            "_________________________________________________________________\n",
            "dense_4 (Dense)              (None, 256)               33024     \n",
            "_________________________________________________________________\n",
            "dropout_4 (Dropout)          (None, 256)               0         \n",
            "_________________________________________________________________\n",
            "dense_5 (Dense)              (None, 10)                2570      \n",
            "=================================================================\n",
            "Total params: 1,234,186\n",
            "Trainable params: 1,234,186\n",
            "Non-trainable params: 0\n",
            "_________________________________________________________________\n"
          ],
          "name": "stdout"
        }
      ]
    },
    {
      "cell_type": "markdown",
      "metadata": {
        "id": "odGDSS3Oe2Um",
        "colab_type": "text"
      },
      "source": [
        "# 学習の開始\n",
        "実際にfitメソッドで学習を開始します。\n",
        "batch_sizeは1度の学習で使う画像の数、\n",
        "epochsはbatch_size枚の画像を利用した学習を１セットとした時の学習セット数です。"
      ]
    },
    {
      "cell_type": "code",
      "metadata": {
        "id": "4GpD3woDrKyJ",
        "colab_type": "code",
        "outputId": "3b2a70de-f881-4d9c-ba67-ac39693a3003",
        "colab": {
          "base_uri": "https://localhost:8080/",
          "height": 1000
        }
      },
      "source": [
        "learn_history = model.fit( x_train, y_train, batch_size = 300, epochs = 100, verbose = 1, validation_split = 0.1)\n",
        "eval_history = model.evaluate( x_test, y_test, batch_size = 300, verbose = 1)"
      ],
      "execution_count": 35,
      "outputs": [
        {
          "output_type": "stream",
          "text": [
            "Train on 54000 samples, validate on 6000 samples\n",
            "Epoch 1/100\n",
            "54000/54000 [==============================] - 5s 85us/step - loss: 0.9245 - acc: 0.7195 - val_loss: 0.2270 - val_acc: 0.9368\n",
            "Epoch 2/100\n",
            "54000/54000 [==============================] - 4s 77us/step - loss: 0.3163 - acc: 0.9051 - val_loss: 0.1492 - val_acc: 0.9582\n",
            "Epoch 3/100\n",
            "54000/54000 [==============================] - 4s 76us/step - loss: 0.2214 - acc: 0.9346 - val_loss: 0.1076 - val_acc: 0.9698\n",
            "Epoch 4/100\n",
            "54000/54000 [==============================] - 4s 77us/step - loss: 0.1678 - acc: 0.9503 - val_loss: 0.0883 - val_acc: 0.9753\n",
            "Epoch 5/100\n",
            "54000/54000 [==============================] - 4s 77us/step - loss: 0.1310 - acc: 0.9614 - val_loss: 0.0729 - val_acc: 0.9793\n",
            "Epoch 6/100\n",
            "54000/54000 [==============================] - 4s 77us/step - loss: 0.1110 - acc: 0.9672 - val_loss: 0.0648 - val_acc: 0.9832\n",
            "Epoch 7/100\n",
            "54000/54000 [==============================] - 4s 76us/step - loss: 0.0974 - acc: 0.9709 - val_loss: 0.0577 - val_acc: 0.9833\n",
            "Epoch 8/100\n",
            "54000/54000 [==============================] - 4s 76us/step - loss: 0.0843 - acc: 0.9753 - val_loss: 0.0552 - val_acc: 0.9855\n",
            "Epoch 9/100\n",
            "54000/54000 [==============================] - 4s 75us/step - loss: 0.0757 - acc: 0.9771 - val_loss: 0.0532 - val_acc: 0.9853\n",
            "Epoch 10/100\n",
            "54000/54000 [==============================] - 4s 75us/step - loss: 0.0671 - acc: 0.9795 - val_loss: 0.0474 - val_acc: 0.9877\n",
            "Epoch 11/100\n",
            "54000/54000 [==============================] - 4s 76us/step - loss: 0.0628 - acc: 0.9804 - val_loss: 0.0466 - val_acc: 0.9882\n",
            "Epoch 12/100\n",
            "54000/54000 [==============================] - 4s 75us/step - loss: 0.0572 - acc: 0.9825 - val_loss: 0.0453 - val_acc: 0.9885\n",
            "Epoch 13/100\n",
            "54000/54000 [==============================] - 4s 76us/step - loss: 0.0540 - acc: 0.9832 - val_loss: 0.0462 - val_acc: 0.9877\n",
            "Epoch 14/100\n",
            "54000/54000 [==============================] - 4s 75us/step - loss: 0.0500 - acc: 0.9849 - val_loss: 0.0407 - val_acc: 0.9892\n",
            "Epoch 15/100\n",
            "54000/54000 [==============================] - 4s 75us/step - loss: 0.0458 - acc: 0.9859 - val_loss: 0.0389 - val_acc: 0.9905\n",
            "Epoch 16/100\n",
            "54000/54000 [==============================] - 4s 75us/step - loss: 0.0426 - acc: 0.9864 - val_loss: 0.0394 - val_acc: 0.9898\n",
            "Epoch 17/100\n",
            "54000/54000 [==============================] - 4s 75us/step - loss: 0.0405 - acc: 0.9878 - val_loss: 0.0387 - val_acc: 0.9895\n",
            "Epoch 18/100\n",
            "54000/54000 [==============================] - 4s 75us/step - loss: 0.0378 - acc: 0.9884 - val_loss: 0.0363 - val_acc: 0.9903\n",
            "Epoch 19/100\n",
            "54000/54000 [==============================] - 4s 75us/step - loss: 0.0368 - acc: 0.9887 - val_loss: 0.0364 - val_acc: 0.9907\n",
            "Epoch 20/100\n",
            "54000/54000 [==============================] - 4s 77us/step - loss: 0.0338 - acc: 0.9890 - val_loss: 0.0365 - val_acc: 0.9913\n",
            "Epoch 21/100\n",
            "54000/54000 [==============================] - 4s 76us/step - loss: 0.0326 - acc: 0.9899 - val_loss: 0.0360 - val_acc: 0.9908\n",
            "Epoch 22/100\n",
            "54000/54000 [==============================] - 4s 75us/step - loss: 0.0311 - acc: 0.9906 - val_loss: 0.0357 - val_acc: 0.9910\n",
            "Epoch 23/100\n",
            "54000/54000 [==============================] - 4s 76us/step - loss: 0.0298 - acc: 0.9909 - val_loss: 0.0355 - val_acc: 0.9915\n",
            "Epoch 24/100\n",
            "54000/54000 [==============================] - 4s 75us/step - loss: 0.0271 - acc: 0.9916 - val_loss: 0.0354 - val_acc: 0.9907\n",
            "Epoch 25/100\n",
            "54000/54000 [==============================] - 4s 74us/step - loss: 0.0269 - acc: 0.9914 - val_loss: 0.0338 - val_acc: 0.9918\n",
            "Epoch 26/100\n",
            "54000/54000 [==============================] - 4s 75us/step - loss: 0.0249 - acc: 0.9921 - val_loss: 0.0356 - val_acc: 0.9917\n",
            "Epoch 27/100\n",
            "54000/54000 [==============================] - 4s 75us/step - loss: 0.0225 - acc: 0.9930 - val_loss: 0.0371 - val_acc: 0.9905\n",
            "Epoch 28/100\n",
            "54000/54000 [==============================] - 4s 75us/step - loss: 0.0219 - acc: 0.9932 - val_loss: 0.0350 - val_acc: 0.9918\n",
            "Epoch 29/100\n",
            "54000/54000 [==============================] - 4s 75us/step - loss: 0.0215 - acc: 0.9929 - val_loss: 0.0374 - val_acc: 0.9915\n",
            "Epoch 30/100\n",
            "54000/54000 [==============================] - 4s 76us/step - loss: 0.0196 - acc: 0.9935 - val_loss: 0.0370 - val_acc: 0.9913\n",
            "Epoch 31/100\n",
            "54000/54000 [==============================] - 4s 75us/step - loss: 0.0196 - acc: 0.9938 - val_loss: 0.0349 - val_acc: 0.9912\n",
            "Epoch 32/100\n",
            "54000/54000 [==============================] - 4s 74us/step - loss: 0.0175 - acc: 0.9946 - val_loss: 0.0360 - val_acc: 0.9920\n",
            "Epoch 33/100\n",
            "54000/54000 [==============================] - 4s 76us/step - loss: 0.0174 - acc: 0.9944 - val_loss: 0.0367 - val_acc: 0.9915\n",
            "Epoch 34/100\n",
            "54000/54000 [==============================] - 4s 75us/step - loss: 0.0170 - acc: 0.9945 - val_loss: 0.0345 - val_acc: 0.9923\n",
            "Epoch 35/100\n",
            "54000/54000 [==============================] - 4s 76us/step - loss: 0.0163 - acc: 0.9946 - val_loss: 0.0347 - val_acc: 0.9913\n",
            "Epoch 36/100\n",
            "54000/54000 [==============================] - 4s 75us/step - loss: 0.0132 - acc: 0.9959 - val_loss: 0.0347 - val_acc: 0.9917\n",
            "Epoch 37/100\n",
            "54000/54000 [==============================] - 4s 75us/step - loss: 0.0144 - acc: 0.9954 - val_loss: 0.0359 - val_acc: 0.9912\n",
            "Epoch 38/100\n",
            "54000/54000 [==============================] - 4s 76us/step - loss: 0.0127 - acc: 0.9960 - val_loss: 0.0361 - val_acc: 0.9917\n",
            "Epoch 39/100\n",
            "54000/54000 [==============================] - 4s 75us/step - loss: 0.0120 - acc: 0.9961 - val_loss: 0.0360 - val_acc: 0.9912\n",
            "Epoch 40/100\n",
            "54000/54000 [==============================] - 4s 75us/step - loss: 0.0117 - acc: 0.9963 - val_loss: 0.0371 - val_acc: 0.9910\n",
            "Epoch 41/100\n",
            "54000/54000 [==============================] - 4s 76us/step - loss: 0.0117 - acc: 0.9961 - val_loss: 0.0375 - val_acc: 0.9917\n",
            "Epoch 42/100\n",
            "54000/54000 [==============================] - 4s 75us/step - loss: 0.0106 - acc: 0.9968 - val_loss: 0.0389 - val_acc: 0.9918\n",
            "Epoch 43/100\n",
            "54000/54000 [==============================] - 4s 75us/step - loss: 0.0107 - acc: 0.9966 - val_loss: 0.0356 - val_acc: 0.9913\n",
            "Epoch 44/100\n",
            "54000/54000 [==============================] - 4s 75us/step - loss: 0.0099 - acc: 0.9970 - val_loss: 0.0370 - val_acc: 0.9917\n",
            "Epoch 45/100\n",
            "54000/54000 [==============================] - 4s 75us/step - loss: 0.0087 - acc: 0.9973 - val_loss: 0.0353 - val_acc: 0.9913\n",
            "Epoch 46/100\n",
            "54000/54000 [==============================] - 4s 75us/step - loss: 0.0096 - acc: 0.9969 - val_loss: 0.0362 - val_acc: 0.9912\n",
            "Epoch 47/100\n",
            "54000/54000 [==============================] - 4s 75us/step - loss: 0.0086 - acc: 0.9974 - val_loss: 0.0365 - val_acc: 0.9922\n",
            "Epoch 48/100\n",
            "54000/54000 [==============================] - 4s 75us/step - loss: 0.0092 - acc: 0.9970 - val_loss: 0.0417 - val_acc: 0.9917\n",
            "Epoch 49/100\n",
            "54000/54000 [==============================] - 4s 75us/step - loss: 0.0081 - acc: 0.9975 - val_loss: 0.0380 - val_acc: 0.9912\n",
            "Epoch 50/100\n",
            "54000/54000 [==============================] - 4s 75us/step - loss: 0.0080 - acc: 0.9974 - val_loss: 0.0369 - val_acc: 0.9923\n",
            "Epoch 51/100\n",
            "54000/54000 [==============================] - 4s 75us/step - loss: 0.0077 - acc: 0.9976 - val_loss: 0.0374 - val_acc: 0.9915\n",
            "Epoch 52/100\n",
            "54000/54000 [==============================] - 4s 76us/step - loss: 0.0064 - acc: 0.9979 - val_loss: 0.0421 - val_acc: 0.9905\n",
            "Epoch 53/100\n",
            "54000/54000 [==============================] - 4s 75us/step - loss: 0.0072 - acc: 0.9977 - val_loss: 0.0404 - val_acc: 0.9902\n",
            "Epoch 54/100\n",
            "54000/54000 [==============================] - 4s 74us/step - loss: 0.0067 - acc: 0.9980 - val_loss: 0.0401 - val_acc: 0.9913\n",
            "Epoch 55/100\n",
            "54000/54000 [==============================] - 4s 74us/step - loss: 0.0061 - acc: 0.9981 - val_loss: 0.0385 - val_acc: 0.9910\n",
            "Epoch 56/100\n",
            "54000/54000 [==============================] - 4s 74us/step - loss: 0.0066 - acc: 0.9979 - val_loss: 0.0429 - val_acc: 0.9918\n",
            "Epoch 57/100\n",
            "54000/54000 [==============================] - 4s 74us/step - loss: 0.0062 - acc: 0.9981 - val_loss: 0.0377 - val_acc: 0.9922\n",
            "Epoch 58/100\n",
            "54000/54000 [==============================] - 4s 75us/step - loss: 0.0060 - acc: 0.9982 - val_loss: 0.0388 - val_acc: 0.9922\n",
            "Epoch 59/100\n",
            "54000/54000 [==============================] - 4s 75us/step - loss: 0.0054 - acc: 0.9984 - val_loss: 0.0373 - val_acc: 0.9932\n",
            "Epoch 60/100\n",
            "54000/54000 [==============================] - 4s 74us/step - loss: 0.0058 - acc: 0.9981 - val_loss: 0.0442 - val_acc: 0.9908\n",
            "Epoch 61/100\n",
            "54000/54000 [==============================] - 4s 75us/step - loss: 0.0059 - acc: 0.9980 - val_loss: 0.0394 - val_acc: 0.9918\n",
            "Epoch 62/100\n",
            "54000/54000 [==============================] - 4s 75us/step - loss: 0.0057 - acc: 0.9982 - val_loss: 0.0379 - val_acc: 0.9923\n",
            "Epoch 63/100\n",
            "54000/54000 [==============================] - 4s 75us/step - loss: 0.0044 - acc: 0.9987 - val_loss: 0.0432 - val_acc: 0.9908\n",
            "Epoch 64/100\n",
            "54000/54000 [==============================] - 4s 76us/step - loss: 0.0045 - acc: 0.9986 - val_loss: 0.0422 - val_acc: 0.9907\n",
            "Epoch 65/100\n",
            "54000/54000 [==============================] - 4s 74us/step - loss: 0.0049 - acc: 0.9985 - val_loss: 0.0403 - val_acc: 0.9922\n",
            "Epoch 66/100\n",
            "54000/54000 [==============================] - 4s 75us/step - loss: 0.0048 - acc: 0.9984 - val_loss: 0.0403 - val_acc: 0.9915\n",
            "Epoch 67/100\n",
            "54000/54000 [==============================] - 4s 74us/step - loss: 0.0042 - acc: 0.9986 - val_loss: 0.0439 - val_acc: 0.9925\n",
            "Epoch 68/100\n",
            "54000/54000 [==============================] - 4s 75us/step - loss: 0.0041 - acc: 0.9987 - val_loss: 0.0453 - val_acc: 0.9923\n",
            "Epoch 69/100\n",
            "54000/54000 [==============================] - 4s 74us/step - loss: 0.0038 - acc: 0.9987 - val_loss: 0.0458 - val_acc: 0.9918\n",
            "Epoch 70/100\n",
            "54000/54000 [==============================] - 4s 75us/step - loss: 0.0041 - acc: 0.9988 - val_loss: 0.0445 - val_acc: 0.9913\n",
            "Epoch 71/100\n",
            "54000/54000 [==============================] - 4s 75us/step - loss: 0.0044 - acc: 0.9986 - val_loss: 0.0456 - val_acc: 0.9913\n",
            "Epoch 72/100\n",
            "54000/54000 [==============================] - 4s 75us/step - loss: 0.0039 - acc: 0.9987 - val_loss: 0.0462 - val_acc: 0.9913\n",
            "Epoch 73/100\n",
            "54000/54000 [==============================] - 4s 75us/step - loss: 0.0041 - acc: 0.9985 - val_loss: 0.0463 - val_acc: 0.9920\n",
            "Epoch 74/100\n",
            "54000/54000 [==============================] - 4s 74us/step - loss: 0.0032 - acc: 0.9991 - val_loss: 0.0435 - val_acc: 0.9920\n",
            "Epoch 75/100\n",
            "54000/54000 [==============================] - 4s 75us/step - loss: 0.0030 - acc: 0.9990 - val_loss: 0.0450 - val_acc: 0.9915\n",
            "Epoch 76/100\n",
            "54000/54000 [==============================] - 4s 75us/step - loss: 0.0039 - acc: 0.9988 - val_loss: 0.0437 - val_acc: 0.9917\n",
            "Epoch 77/100\n",
            "54000/54000 [==============================] - 4s 74us/step - loss: 0.0036 - acc: 0.9988 - val_loss: 0.0475 - val_acc: 0.9912\n",
            "Epoch 78/100\n",
            "54000/54000 [==============================] - 4s 74us/step - loss: 0.0040 - acc: 0.9986 - val_loss: 0.0422 - val_acc: 0.9917\n",
            "Epoch 79/100\n",
            "54000/54000 [==============================] - 4s 75us/step - loss: 0.0030 - acc: 0.9990 - val_loss: 0.0433 - val_acc: 0.9917\n",
            "Epoch 80/100\n",
            "54000/54000 [==============================] - 4s 76us/step - loss: 0.0033 - acc: 0.9989 - val_loss: 0.0464 - val_acc: 0.9923\n",
            "Epoch 81/100\n",
            "54000/54000 [==============================] - 4s 75us/step - loss: 0.0034 - acc: 0.9990 - val_loss: 0.0419 - val_acc: 0.9912\n",
            "Epoch 82/100\n",
            "54000/54000 [==============================] - 4s 76us/step - loss: 0.0031 - acc: 0.9990 - val_loss: 0.0463 - val_acc: 0.9922\n",
            "Epoch 83/100\n",
            "54000/54000 [==============================] - 4s 76us/step - loss: 0.0029 - acc: 0.9990 - val_loss: 0.0465 - val_acc: 0.9915\n",
            "Epoch 84/100\n",
            "54000/54000 [==============================] - 4s 73us/step - loss: 0.0025 - acc: 0.9993 - val_loss: 0.0481 - val_acc: 0.9928\n",
            "Epoch 85/100\n",
            "54000/54000 [==============================] - 4s 75us/step - loss: 0.0026 - acc: 0.9991 - val_loss: 0.0470 - val_acc: 0.9920\n",
            "Epoch 86/100\n",
            "54000/54000 [==============================] - 4s 74us/step - loss: 0.0023 - acc: 0.9994 - val_loss: 0.0476 - val_acc: 0.9918\n",
            "Epoch 87/100\n",
            "54000/54000 [==============================] - 4s 74us/step - loss: 0.0032 - acc: 0.9990 - val_loss: 0.0450 - val_acc: 0.9918\n",
            "Epoch 88/100\n",
            "54000/54000 [==============================] - 4s 74us/step - loss: 0.0030 - acc: 0.9991 - val_loss: 0.0433 - val_acc: 0.9912\n",
            "Epoch 89/100\n",
            "54000/54000 [==============================] - 4s 74us/step - loss: 0.0028 - acc: 0.9990 - val_loss: 0.0457 - val_acc: 0.9920\n",
            "Epoch 90/100\n",
            "54000/54000 [==============================] - 4s 74us/step - loss: 0.0023 - acc: 0.9994 - val_loss: 0.0468 - val_acc: 0.9923\n",
            "Epoch 91/100\n",
            "54000/54000 [==============================] - 4s 74us/step - loss: 0.0028 - acc: 0.9991 - val_loss: 0.0516 - val_acc: 0.9918\n",
            "Epoch 92/100\n",
            "54000/54000 [==============================] - 4s 74us/step - loss: 0.0022 - acc: 0.9993 - val_loss: 0.0485 - val_acc: 0.9920\n",
            "Epoch 93/100\n",
            "54000/54000 [==============================] - 4s 75us/step - loss: 0.0024 - acc: 0.9992 - val_loss: 0.0475 - val_acc: 0.9927\n",
            "Epoch 94/100\n",
            "54000/54000 [==============================] - 4s 75us/step - loss: 0.0021 - acc: 0.9993 - val_loss: 0.0478 - val_acc: 0.9918\n",
            "Epoch 95/100\n",
            "54000/54000 [==============================] - 4s 75us/step - loss: 0.0018 - acc: 0.9995 - val_loss: 0.0460 - val_acc: 0.9922\n",
            "Epoch 96/100\n",
            "54000/54000 [==============================] - 4s 74us/step - loss: 0.0024 - acc: 0.9992 - val_loss: 0.0480 - val_acc: 0.9927\n",
            "Epoch 97/100\n",
            "54000/54000 [==============================] - 4s 75us/step - loss: 0.0018 - acc: 0.9995 - val_loss: 0.0493 - val_acc: 0.9918\n",
            "Epoch 98/100\n",
            "54000/54000 [==============================] - 4s 75us/step - loss: 0.0027 - acc: 0.9991 - val_loss: 0.0466 - val_acc: 0.9918\n",
            "Epoch 99/100\n",
            "54000/54000 [==============================] - 4s 75us/step - loss: 0.0026 - acc: 0.9992 - val_loss: 0.0483 - val_acc: 0.9917\n",
            "Epoch 100/100\n",
            "54000/54000 [==============================] - 4s 74us/step - loss: 0.0021 - acc: 0.9993 - val_loss: 0.0477 - val_acc: 0.9915\n",
            "10000/10000 [==============================] - 0s 24us/step\n"
          ],
          "name": "stdout"
        }
      ]
    },
    {
      "cell_type": "markdown",
      "metadata": {
        "id": "yLUjYbQigO0g",
        "colab_type": "text"
      },
      "source": [
        "# 学習したモデルを保存する\n",
        "学習したモデルは、Google Driveと連携して簡単に保存することができる。\n",
        "以下はその例"
      ]
    },
    {
      "cell_type": "code",
      "metadata": {
        "id": "BLofsyolyD3I",
        "colab_type": "code",
        "outputId": "80771593-ae6a-4eb6-f3af-fa061a3ffc7c",
        "colab": {
          "base_uri": "https://localhost:8080/",
          "height": 34
        }
      },
      "source": [
        "# 保存先のディレクトリを指定。drive/My Driveまでは必須で、それ以降は任意\n",
        "SAVE_PATH = 'drive/My Drive/mnist/mnist_model.hdf5'\n",
        "\n",
        "from google.colab import drive\n",
        "drive.mount('drive')\n",
        "model.save(SAVE_PATH)"
      ],
      "execution_count": 36,
      "outputs": [
        {
          "output_type": "stream",
          "text": [
            "Drive already mounted at drive; to attempt to forcibly remount, call drive.mount(\"drive\", force_remount=True).\n"
          ],
          "name": "stdout"
        }
      ]
    },
    {
      "cell_type": "code",
      "metadata": {
        "id": "42bxRu7wQ1lL",
        "colab_type": "code",
        "outputId": "e9d55842-5093-4afe-9f2d-8cc03475622a",
        "colab": {
          "base_uri": "https://localhost:8080/",
          "height": 573
        }
      },
      "source": [
        "#!mv mnist_model_weight.hdf5 'tensorboard/My Drive/tensorboard/'\n",
        "#model.save_weights('mnist_model_weight.hdf5')\n",
        "\n",
        "# 精度の履歴をプロット\n",
        "plt.plot(learn_history.history['acc'],\"o-\",label=\"accuracy\")\n",
        "plt.plot(learn_history.history['val_acc'],\"o-\",label=\"val_acc\")\n",
        "plt.title('MNIST accuracy')\n",
        "plt.xlabel('epoch')\n",
        "plt.ylabel('accuracy')\n",
        "plt.legend(loc=\"lower right\")\n",
        "plt.show()\n",
        "\n",
        "# 損失の履歴をプロット\n",
        "plt.plot(learn_history.history['loss'],\"o-\",label=\"loss\",)\n",
        "plt.plot(learn_history.history['val_loss'],\"o-\",label=\"val_loss\")\n",
        "plt.title('MNIST loss')\n",
        "plt.xlabel('epoch')\n",
        "plt.ylabel('loss')\n",
        "plt.legend(loc='lower right')\n",
        "plt.show()"
      ],
      "execution_count": 37,
      "outputs": [
        {
          "output_type": "display_data",
          "data": {
            "image/png": "[encoded data removed]",
            "text/plain": [
              "<Figure size 432x288 with 1 Axes>"
            ]
          },
          "metadata": {
            "tags": []
          }
        },
        {
          "output_type": "display_data",
          "data": {
            "image/png": "[encoded data removed]",
            "text/plain": [
              "<Figure size 432x288 with 1 Axes>"
            ]
          },
          "metadata": {
            "tags": []
          }
        }
      ]
    },
    {
      "cell_type": "markdown",
      "metadata": {
        "id": "JAJIja5jhGY4",
        "colab_type": "text"
      },
      "source": [
        "# 保存したモデルを利用した手書き数字の推測をやらせてみる\n",
        "保存したモデルを利用して、今度は自分で書いた手書き数字の推定をしてみましょう\n"
      ]
    },
    {
      "cell_type": "code",
      "metadata": {
        "id": "DLKtVHhsCKvn",
        "colab_type": "code",
        "outputId": "78ae76c1-e69a-4bfb-9733-c79aa1d7f269",
        "colab": {
          "base_uri": "https://localhost:8080/",
          "height": 459
        }
      },
      "source": [
        "# モデルの読み込み\n",
        "model2 = keras.models.load_model(SAVE_PATH)\n",
        "model2.summary()"
      ],
      "execution_count": 38,
      "outputs": [
        {
          "output_type": "stream",
          "text": [
            "Model: \"sequential_2\"\n",
            "_________________________________________________________________\n",
            "Layer (type)                 Output Shape              Param #   \n",
            "=================================================================\n",
            "conv2d_3 (Conv2D)            (None, 26, 26, 32)        320       \n",
            "_________________________________________________________________\n",
            "conv2d_4 (Conv2D)            (None, 24, 24, 64)        18496     \n",
            "_________________________________________________________________\n",
            "max_pooling2d_2 (MaxPooling2 (None, 12, 12, 64)        0         \n",
            "_________________________________________________________________\n",
            "dropout_3 (Dropout)          (None, 12, 12, 64)        0         \n",
            "_________________________________________________________________\n",
            "flatten_2 (Flatten)          (None, 9216)              0         \n",
            "_________________________________________________________________\n",
            "dense_3 (Dense)              (None, 128)               1179776   \n",
            "_________________________________________________________________\n",
            "dense_4 (Dense)              (None, 256)               33024     \n",
            "_________________________________________________________________\n",
            "dropout_4 (Dropout)          (None, 256)               0         \n",
            "_________________________________________________________________\n",
            "dense_5 (Dense)              (None, 10)                2570      \n",
            "=================================================================\n",
            "Total params: 1,234,186\n",
            "Trainable params: 1,234,186\n",
            "Non-trainable params: 0\n",
            "_________________________________________________________________\n"
          ],
          "name": "stdout"
        }
      ]
    },
    {
      "cell_type": "markdown",
      "metadata": {
        "id": "mGpFEJVLke5M",
        "colab_type": "text"
      },
      "source": [
        "# 手書き数字画像を作ってアップロード\n",
        "ここで、手書き数字の画像をアップロードできます"
      ]
    },
    {
      "cell_type": "code",
      "metadata": {
        "id": "kQOBs0dNGxRm",
        "colab_type": "code",
        "outputId": "13eb1ed5-2c4f-4b18-9079-1aa0ce701a64",
        "colab": {
          "resources": {
            "http://localhost:8080/nbextensions/google.colab/files.js": {
              "data": "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",
              "ok": true,
              "headers": [
                [
                  "content-type",
                  "application/javascript"
                ]
              ],
              "status": 200,
              "status_text": ""
            }
          },
          "base_uri": "https://localhost:8080/",
          "height": 71
        }
      },
      "source": [
        "from google.colab import files\n",
        "uploaded = files.upload()"
      ],
      "execution_count": 39,
      "outputs": [
        {
          "output_type": "display_data",
          "data": {
            "text/html": [
              "\n",
              "     <input type=\"file\" id=\"files-a7ecd20c-3887-41d9-a597-0339f658aaf3\" name=\"files[]\" multiple disabled />\n",
              "     <output id=\"result-a7ecd20c-3887-41d9-a597-0339f658aaf3\">\n",
              "      Upload widget is only available when the cell has been executed in the\n",
              "      current browser session. Please rerun this cell to enable.\n",
              "      </output>\n",
              "      <script src=\"/nbextensions/google.colab/files.js\"></script> "
            ],
            "text/plain": [
              "<IPython.core.display.HTML object>"
            ]
          },
          "metadata": {
            "tags": []
          }
        },
        {
          "output_type": "stream",
          "text": [
            "Saving 3.png to 3 (1).png\n"
          ],
          "name": "stdout"
        }
      ]
    },
    {
      "cell_type": "code",
      "metadata": {
        "id": "d_-oMKHrG-Xy",
        "colab_type": "code",
        "outputId": "405403a8-70fb-404b-c6f0-3ea22457e638",
        "colab": {
          "base_uri": "https://localhost:8080/",
          "height": 286
        }
      },
      "source": [
        "from PIL import Image\n",
        "import numpy as np\n",
        "# 例として、手書き数字「３」を書いてアップロードした「3.png」を読み込ませます\n",
        "im = Image.open('3.png')  # ここはアップロードした画像ファイルの名前に書き換えてください\n",
        "plt.imshow(np.array(im))\n"
      ],
      "execution_count": 40,
      "outputs": [
        {
          "output_type": "execute_result",
          "data": {
            "text/plain": [
              "<matplotlib.image.AxesImage at 0x7f619ec8c5f8>"
            ]
          },
          "metadata": {
            "tags": []
          },
          "execution_count": 40
        },
        {
          "output_type": "display_data",
          "data": {
            "image/png": "[encoded data removed]",
            "text/plain": [
              "<Figure size 432x288 with 1 Axes>"
            ]
          },
          "metadata": {
            "tags": []
          }
        }
      ]
    },
    {
      "cell_type": "markdown",
      "metadata": {
        "id": "yx7EbPJv_gUZ",
        "colab_type": "text"
      },
      "source": [
        "以下で、ニューラルネットワークの推測ができるように画像を加工します\n",
        "\n",
        "具体的には、28x28にリサイズし、グレースケールにした後で、各ピクセルの値を0~1となるように正規化をしています。"
      ]
    },
    {
      "cell_type": "code",
      "metadata": {
        "id": "lzQRhk5_uWfO",
        "colab_type": "code",
        "colab": {
          "base_uri": "https://localhost:8080/",
          "height": 282
        },
        "outputId": "b25161df-5de6-4bda-ad1a-67c9efe7905e"
      },
      "source": [
        "im_resize = im.resize((28, 28))\n",
        "im_resize  = im_resize.convert('L')\n",
        "\n",
        "plt.imshow(np.array(im_resize))\n",
        "input_data = np.array(im_resize)\n",
        "input_data = input_data.reshape(1, 28, 28, 1)\n",
        "input_data.astype('float32')\n",
        "input_data = input_data / 255\n",
        "\n",
        "input_data.shape"
      ],
      "execution_count": 41,
      "outputs": [
        {
          "output_type": "execute_result",
          "data": {
            "text/plain": [
              "(1, 28, 28, 1)"
            ]
          },
          "metadata": {
            "tags": []
          },
          "execution_count": 41
        },
        {
          "output_type": "display_data",
          "data": {
            "image/png": "[encoded data removed]",
            "text/plain": [
              "<Figure size 432x288 with 1 Axes>"
            ]
          },
          "metadata": {
            "tags": []
          }
        }
      ]
    },
    {
      "cell_type": "markdown",
      "metadata": {
        "id": "jwxojgSl_5oN",
        "colab_type": "text"
      },
      "source": [
        "アップロードした画像をpredictメソッドで推測をします。\n",
        "\n",
        "推測をした結果として得られる戻り値は、長さ10の配列です。\n",
        "配列のそれぞれの値は、推測した結果として0~9の数字である可能性を表しています。\n",
        "つまり、推測の結果として得られる配列は\n",
        "\n",
        "\n",
        "[0の可能性, 1の可能性, ... 9の可能性]\n",
        "\n",
        "\n",
        "となります。\n",
        "\n",
        "なので、一番値が大きい添字が推測結果となります。一番大きい添字はnumpy.argmaxで導き出します。"
      ]
    },
    {
      "cell_type": "code",
      "metadata": {
        "id": "TBwMDNMmkKGb",
        "colab_type": "code",
        "colab": {
          "base_uri": "https://localhost:8080/",
          "height": 34
        },
        "outputId": "b14a3091-2728-4d2b-e04a-3d1ac9be973b"
      },
      "source": [
        "answer = model2.predict(input_data)\n",
        "# 推測結果を割り出す\n",
        "answer_num = np.argmax(answer)\n",
        "\n",
        "print('推測結果: {}, 精度: {}'.format(answer_num, np.max(answer) * 100))"
      ],
      "execution_count": 56,
      "outputs": [
        {
          "output_type": "stream",
          "text": [
            "推測結果: 3, 精度: 0.999771773815155\n"
          ],
          "name": "stdout"
        }
      ]
    }
  ]
}
