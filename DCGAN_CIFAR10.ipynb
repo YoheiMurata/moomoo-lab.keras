{
  "nbformat": 4,
  "nbformat_minor": 0,
  "metadata": {
    "colab": {
      "name": "DCGAN-CIFAR10.ipynb",
      "provenance": [],
      "collapsed_sections": [],
      "include_colab_link": true
    },
    "kernelspec": {
      "name": "python3",
      "display_name": "Python 3"
    },
    "accelerator": "GPU"
  },
  "cells": [
    {
      "cell_type": "markdown",
      "metadata": {
        "id": "view-in-github",
        "colab_type": "text"
      },
      "source": [
        "<a href=\"https://colab.research.google.com/github/YoheiMurata/moomoo-lab.keras/blob/master/DCGAN_CIFAR10.ipynb\" target=\"_parent\"><img src=\"https://colab.research.google.com/assets/colab-badge.svg\" alt=\"Open In Colab\"/></a>"
      ]
    },
    {
      "cell_type": "markdown",
      "metadata": {
        "id": "4Y3lQ7afQJDB",
        "colab_type": "text"
      },
      "source": [
        "# CIFAR-10画像の生成をDCGANで実装しよう\n",
        "DCGANの実装をして、試しに学習・生成をしてみます。\n",
        "教師用データは、クラス分類用のデータセットであるCIFAR-10を利用します。\n",
        "\n",
        "大きな流れとしては、下記の通りです。\n",
        "\n",
        "\n",
        "1.   教師用データを作成\n",
        "2.   ネットワークを作成\n",
        "3.   ネットワークを学習・重みを保存\n",
        "4.   試しに生成\n",
        "\n"
      ]
    },
    {
      "cell_type": "code",
      "metadata": {
        "id": "1nvLKd_X7DtM",
        "colab_type": "code",
        "outputId": "f7b7778f-7077-4335-bb92-5fa6e86f0b1c",
        "colab": {
          "base_uri": "https://localhost:8080/",
          "height": 80
        }
      },
      "source": [
        "import keras\n",
        "from keras import Sequential, Model\n",
        "from keras.layers.convolutional import Conv2D, Conv2DTranspose\n",
        "from keras.layers import BatchNormalization, Dropout\n",
        "from keras.layers.advanced_activations import LeakyReLU\n",
        "from keras.layers.core import Activation\n",
        "from keras.layers import Flatten, Dense, Input, Reshape\n",
        "from keras.initializers import RandomNormal as RN\n",
        "from keras.datasets import cifar10\n",
        "from keras.optimizers import Adam\n",
        "import numpy as np\n",
        "\n",
        "from tqdm import tqdm"
      ],
      "execution_count": 1,
      "outputs": [
        {
          "output_type": "stream",
          "text": [
            "Using TensorFlow backend.\n"
          ],
          "name": "stderr"
        },
        {
          "output_type": "display_data",
          "data": {
            "text/html": [
              "<p style=\"color: red;\">\n",
              "The default version of TensorFlow in Colab will soon switch to TensorFlow 2.x.<br>\n",
              "We recommend you <a href=\"https://www.tensorflow.org/guide/migrate\" target=\"_blank\">upgrade</a> now \n",
              "or ensure your notebook will continue to use TensorFlow 1.x via the <code>%tensorflow_version 1.x</code> magic:\n",
              "<a href=\"https://colab.research.google.com/notebooks/tensorflow_version.ipynb\" target=\"_blank\">more info</a>.</p>\n"
            ],
            "text/plain": [
              "<IPython.core.display.HTML object>"
            ]
          },
          "metadata": {
            "tags": []
          }
        }
      ]
    },
    {
      "cell_type": "code",
      "metadata": {
        "id": "TNoaIvxzLZjQ",
        "colab_type": "code",
        "colab": {}
      },
      "source": [
        "# データセット作成に必要なライブラリのインポート\n",
        "from google.colab import drive\n",
        "import os\n",
        "import sys\n",
        "import glob\n",
        "from PIL import Image\n",
        "import datetime\n",
        "import matplotlib.pyplot as plt"
      ],
      "execution_count": 0,
      "outputs": []
    },
    {
      "cell_type": "markdown",
      "metadata": {
        "id": "bhqC8NGdJClG",
        "colab_type": "text"
      },
      "source": [
        "Google Driveをマウントします"
      ]
    },
    {
      "cell_type": "code",
      "metadata": {
        "id": "scjUDmga7LiJ",
        "colab_type": "code",
        "outputId": "51acbf8c-33d4-49ab-b11f-6afa3f6d8897",
        "colab": {
          "base_uri": "https://localhost:8080/",
          "height": 122
        }
      },
      "source": [
        "drive.mount('drive')"
      ],
      "execution_count": 3,
      "outputs": [
        {
          "output_type": "stream",
          "text": [
            "Go to this URL in a browser: https://accounts.google.com/o/oauth2/auth?client_id=947318989803-6bn6qk8qdgf4n4g3pfee6491hc0brc4i.apps.googleusercontent.com&redirect_uri=urn%3aietf%3awg%3aoauth%3a2.0%3aoob&response_type=code&scope=email%20https%3a%2f%2fwww.googleapis.com%2fauth%2fdocs.test%20https%3a%2f%2fwww.googleapis.com%2fauth%2fdrive%20https%3a%2f%2fwww.googleapis.com%2fauth%2fdrive.photos.readonly%20https%3a%2f%2fwww.googleapis.com%2fauth%2fpeopleapi.readonly\n",
            "\n",
            "Enter your authorization code:\n",
            "··········\n",
            "Mounted at drive\n"
          ],
          "name": "stdout"
        }
      ]
    },
    {
      "cell_type": "markdown",
      "metadata": {
        "id": "SqU1CsoyJJjD",
        "colab_type": "text"
      },
      "source": [
        "CIFAR-10のラベル情報は0~9の10種類があり、それぞれの数字が飛行機、猫などを表しています"
      ]
    },
    {
      "cell_type": "code",
      "metadata": {
        "id": "-L2kQvWzBwTn",
        "colab_type": "code",
        "colab": {}
      },
      "source": [
        "IDX_AIRPLANE = 0\n",
        "IDX_CAR = 1\n",
        "IDX_BIRD = 2\n",
        "IDX_CAT = 3\n",
        "IDX_COW = 4\n",
        "IDX_DOG = 5\n",
        "IDX_FROG = 6\n",
        "IDX_HOURSE = 7\n",
        "IDX_SHIP = 8\n",
        "IDX_TRUCK = 9"
      ],
      "execution_count": 0,
      "outputs": []
    },
    {
      "cell_type": "markdown",
      "metadata": {
        "id": "jiWxanHbKz6A",
        "colab_type": "text"
      },
      "source": [
        "# データセットの作成\n",
        "CIFAR-10の特定画像を抽出してデータセットを生成します\n",
        "ここでは、例として猫（IDX_CAT）を抽出します"
      ]
    },
    {
      "cell_type": "code",
      "metadata": {
        "id": "3fuou_nNEu8p",
        "colab_type": "code",
        "colab": {}
      },
      "source": [
        "'''\n",
        "指定したディレクトリにデータセット化した猫画像を\n",
        "指定した場所に出力する\n",
        "-----\n",
        "引数:\n",
        "  output_path: データセット出力先のファイルパス\n",
        "'''\n",
        "def make_dataset(output_path):\n",
        "  # CIFAR-10をダウンんロードします\n",
        "  (x_train, y_train), (_, _) = cifar10.load_data()\n",
        "  # 猫画像を抽出します\n",
        "  idxs = np.where( y_train == IDX_CAT )[0]\n",
        "  datas = x_train[ idxs ]\n",
        "  datas = datas.reshape( len( idxs ), 32, 32, 3 )\n",
        "  # 画像の各ピクセルの値が-1~1の範囲となるように正規化します\n",
        "  datas = ( datas.astype( np.float32 ) - 127.5 ) / 127.5\n",
        "\n",
        "  # ディレクトリが存在しない場合は作成してデータセットを出力します\n",
        "  if not os.path.exists( output_path ):\n",
        "    os.mkdir( output_path )\n",
        "  dataset = np.array( datas, dtype = np.float32 )\n",
        "  # ファイル名「datasets.npz」でデータセットを保存します\n",
        "  np.savez( output_path + 'datasets.npz', X = dataset )\n"
      ],
      "execution_count": 0,
      "outputs": []
    },
    {
      "cell_type": "code",
      "metadata": {
        "id": "ZIhuZjJZrtcf",
        "colab_type": "code",
        "outputId": "b41defe8-9534-4955-d440-c1456c7fbf0e",
        "colab": {
          "base_uri": "https://localhost:8080/",
          "height": 51
        }
      },
      "source": [
        "# Google Drive上に「dcgan_test」フォルダを作成してデータセットを保存します\n",
        "make_dataset('drive/My Drive/dcgan_test/')"
      ],
      "execution_count": 7,
      "outputs": [
        {
          "output_type": "stream",
          "text": [
            "Downloading data from https://www.cs.toronto.edu/~kriz/cifar-10-python.tar.gz\n",
            "170500096/170498071 [==============================] - 6s 0us/step\n"
          ],
          "name": "stdout"
        }
      ]
    },
    {
      "cell_type": "markdown",
      "metadata": {
        "id": "iX3rPL5CM5AF",
        "colab_type": "text"
      },
      "source": [
        "保存したデータセットをロードして、変数Xに格納します"
      ]
    },
    {
      "cell_type": "code",
      "metadata": {
        "id": "Y6vOFCRY8b0g",
        "colab_type": "code",
        "colab": {}
      },
      "source": [
        "datas = np.load('drive/My Drive/dcgan_test/datasets.npz')\n",
        "X = datas['X']"
      ],
      "execution_count": 0,
      "outputs": []
    },
    {
      "cell_type": "markdown",
      "metadata": {
        "id": "vySvpF6CNPhK",
        "colab_type": "text"
      },
      "source": [
        "試しに1枚だけ適当に表示してみます"
      ]
    },
    {
      "cell_type": "code",
      "metadata": {
        "id": "inxxPYnyYkE7",
        "colab_type": "code",
        "outputId": "00519cee-6268-431b-9240-054054d18963",
        "colab": {
          "base_uri": "https://localhost:8080/",
          "height": 300
        }
      },
      "source": [
        "plt.imshow(X[190])"
      ],
      "execution_count": 9,
      "outputs": [
        {
          "output_type": "stream",
          "text": [
            "Clipping input data to the valid range for imshow with RGB data ([0..1] for floats or [0..255] for integers).\n"
          ],
          "name": "stderr"
        },
        {
          "output_type": "execute_result",
          "data": {
            "text/plain": [
              "<matplotlib.image.AxesImage at 0x7f9c1beac6d8>"
            ]
          },
          "metadata": {
            "tags": []
          },
          "execution_count": 9
        },
        {
          "output_type": "display_data",
          "data": {
            "image/png": "[encoded data removed]",
            "text/plain": [
              "<Figure size 432x288 with 1 Axes>"
            ]
          },
          "metadata": {
            "tags": []
          }
        }
      ]
    },
    {
      "cell_type": "markdown",
      "metadata": {
        "id": "WPI_w7U6PnKA",
        "colab_type": "text"
      },
      "source": [
        "# DCGANモデルの定義\n",
        "潜在変数の次元数はひとまず１００として、生成者、識別者のモデルを定義していきます\n"
      ]
    },
    {
      "cell_type": "code",
      "metadata": {
        "id": "nm4XbJY8AB_Y",
        "colab_type": "code",
        "colab": {}
      },
      "source": [
        "# 潜在変数の定義\n",
        "noise_dim = 100"
      ],
      "execution_count": 0,
      "outputs": []
    },
    {
      "cell_type": "code",
      "metadata": {
        "id": "9norZ45C9hw4",
        "colab_type": "code",
        "colab": {}
      },
      "source": [
        "'''\n",
        "生成者の作成\n",
        "'''\n",
        "def make_generator():\n",
        "  model = Sequential()\n",
        "\n",
        "  # 1つ目のブロック（ベクトルから4x4の画像に）\n",
        "  model.add( Dense( 1024, input_shape = ( noise_dim, ) ) )\n",
        "  model.add( LeakyReLU() )\n",
        "  model.add( Dropout( 0.3 ) )\n",
        "  model.add( Dense( 4 * 4 * 512 ) )\n",
        "  model.add( BatchNormalization() )\n",
        "  model.add( LeakyReLU() )\n",
        "  model.add( Reshape( ( 4, 4, 512 ) ) )\n",
        "\n",
        "  # 2つ目のブロック（4x4の画像から8x8の画像に）\n",
        "  model.add( Conv2DTranspose( filters = 256, kernel_size = 5, strides = 2, padding = 'same', kernel_initializer=RN(mean=0.0, stddev=0.02) ) )\n",
        "  model.add( BatchNormalization() )\n",
        "  model.add( LeakyReLU() )\n",
        "  model.add( Conv2D( filters = 256, kernel_size = 2, padding = 'same', kernel_initializer=RN(mean=0.0, stddev=0.02)  ) )\n",
        "  model.add( BatchNormalization() )\n",
        "  model.add( LeakyReLU() )\n",
        "\n",
        "  # 3つ目のブロック（8x8の画像から16x16の画像に）\n",
        "  model.add( Conv2DTranspose( filters = 128, kernel_size = 5, strides = 2, padding = 'same', kernel_initializer=RN(mean=0.0, stddev=0.02)  ) )\n",
        "  model.add( BatchNormalization() )\n",
        "  model.add( LeakyReLU() )\n",
        "\n",
        "  # 4つ目のブロック（１６x１６の画像から３２x３２の画像に）\n",
        "  model.add( Conv2DTranspose( filters = 3, kernel_size = 5, strides = 2, padding = 'same', kernel_initializer=RN(mean=0.0, stddev=0.02)  ) )\n",
        "  model.add( BatchNormalization() )\n",
        "  model.add( Activation('tanh') )\n",
        "\n",
        "  return model\n",
        "\n"
      ],
      "execution_count": 0,
      "outputs": []
    },
    {
      "cell_type": "code",
      "metadata": {
        "id": "zqNnC5ZfB-ko",
        "colab_type": "code",
        "colab": {}
      },
      "source": [
        "'''\n",
        "識別者の作成\n",
        "'''\n",
        "def make_discriminator():\n",
        "  model = Sequential()\n",
        "\n",
        "  # 1つ目のブロック\n",
        "  model.add( Conv2D( filters = 32, kernel_size = 5, strides = 2, input_shape = ( 32, 32, 3 ), padding = 'same', kernel_initializer=RN(mean=0.0, stddev=0.02) ) )\n",
        "  model.add( BatchNormalization() )\n",
        "  model.add( Activation('relu') )\n",
        "\n",
        "  # 2つ目のブロック\n",
        "  model.add( Conv2D( filters = 64, kernel_size = 5, strides = 2, padding = 'same', kernel_initializer=RN(mean=0.0, stddev=0.02) ) )\n",
        "  model.add( BatchNormalization() )\n",
        "  model.add( Activation('relu') )\n",
        "\n",
        "  # 3つ目のブロック\n",
        "  model.add( Conv2D( filters = 128, kernel_size = 5, strides = 2, padding = 'same', kernel_initializer=RN(mean=0.0, stddev=0.02) ) )\n",
        "  model.add( Activation('relu') )\n",
        "  model.add( Flatten() )\n",
        "  model.add( Dropout( 0.5 ) )\n",
        "  model.add( Dense( 64 ))\n",
        "  model.add( Dense( 1, activation = 'sigmoid' ) )\n",
        "\n",
        "  return model"
      ],
      "execution_count": 0,
      "outputs": []
    },
    {
      "cell_type": "markdown",
      "metadata": {
        "id": "IH1ax0QtVPx1",
        "colab_type": "text"
      },
      "source": [
        "次の関数は、Combinedネットワークの作成をします。\n",
        "Combinedは生成者と識別者を組み合わせたネットワークで、生成者の学習に利用します。\n",
        "生成者が学習している間、識別者は学習しないよう、trainableをFalseに設定します"
      ]
    },
    {
      "cell_type": "code",
      "metadata": {
        "id": "k2IeeQ9vCmdo",
        "colab_type": "code",
        "colab": {}
      },
      "source": [
        "'''\n",
        "Combinedの作成\n",
        "Combinedは、generatorを学習する用のネットワークのこと\n",
        "'''\n",
        "def make_combined( generator, discriminator ):\n",
        "  # trainable = Falseで識別者の学習を止めます\n",
        "  discriminator.trainable = False\n",
        "\n",
        "  model = Sequential( [ generator, discriminator ] )\n",
        "\n",
        "  return model"
      ],
      "execution_count": 0,
      "outputs": []
    },
    {
      "cell_type": "markdown",
      "metadata": {
        "id": "xssutXJ-aBd2",
        "colab_type": "text"
      },
      "source": [
        "生成者が生成した画像を保存する関数を定義します。\n",
        "1枚の画像の中に、25枚生成画像を５x５に並べて生成します"
      ]
    },
    {
      "cell_type": "code",
      "metadata": {
        "id": "8KrJmpZ3lDW5",
        "colab_type": "code",
        "colab": {}
      },
      "source": [
        "'''\n",
        "生成した画像の表示と保存\n",
        "'''\n",
        "FAKE_IMAGE_PATH = 'drive/My Drive/dcgan_test/genImage/'\n",
        "def saveImage( iteration, noise ):\n",
        "  fig, axes = plt.subplots( 5, 5 )\n",
        "  images = generator.predict( noise )\n",
        "  images = images * 127.5 + 127.5\n",
        "  images = images.astype( np.int32 )\n",
        "\n",
        "  for img, ax in zip( images, axes.flatten() ):\n",
        "    ax.imshow( img )\n",
        "    ax.axis('off')\n",
        "  \n",
        "  if not os.path.exists(FAKE_IMAGE_PATH):\n",
        "    os.mkdir(FAKE_IMAGE_PATH)\n",
        "\n",
        "  fname = FAKE_IMAGE_PATH + 'generate_%05d.png' % iteration\n",
        "  fig.savefig( fname )\n",
        "\n",
        "  plt.close()\n"
      ],
      "execution_count": 0,
      "outputs": []
    },
    {
      "cell_type": "markdown",
      "metadata": {
        "id": "GT3r-vTra2mN",
        "colab_type": "text"
      },
      "source": [
        "# DCGANモデルを学習\n",
        "モデルを実際に学習させます。for文のなかで、識別者、生成者の順番で学習をさせます"
      ]
    },
    {
      "cell_type": "code",
      "metadata": {
        "id": "aiazFJtwJpM6",
        "colab_type": "code",
        "outputId": "61b56b11-2981-4c06-96f5-2ae05d38e629",
        "colab": {
          "base_uri": "https://localhost:8080/",
          "height": 1000
        }
      },
      "source": [
        "'''\n",
        "モデルの作成と学習を始める\n",
        "'''\n",
        "generator = make_generator()\n",
        "\n",
        "discriminator = make_discriminator()\n",
        "\n",
        "# discriminatorをコンパイルする\n",
        "discriminator.trainable = True\n",
        "discriminator.compile( loss = 'binary_crossentropy', optimizer = Adam( lr = 0.0002, beta_1 = 0.5 ), metrics = [ 'accuracy' ] )\n",
        "\n",
        "\n",
        "# combinedをコンパイルする\n",
        "combined = make_combined( generator, discriminator )\n",
        "combined.compile( loss = 'binary_crossentropy', optimizer = Adam( lr = 0.0002, beta_1 = 0.5 ), metrics = [ 'accuracy' ] )\n",
        "combined.summary()\n",
        "# チェックポイントで出力させる用の潜在変数を生成しておきます\n",
        "checkPointNoise = np.random.uniform( -1, 1, ( 25, noise_dim ) )\n",
        "\n",
        "iteration = 50000\n",
        "batch_size = 300 #1回あたりの学習回数\n",
        "checkpoint = 500 #ここの回数ごとに画像を生成して記録します\n",
        "\n",
        "try:\n",
        "\n",
        "  for i in tqdm( range( iteration ) ):  \n",
        "    # 画像をランダムに選んで教師データとします\n",
        "    idx = np.random.randint( 0, len( X ), batch_size )\n",
        "\n",
        "    realImages = X[ idx ]\n",
        "    realImages = realImages.reshape( batch_size, 32, 32, 3 )\n",
        "　　　　　　　# \n",
        "    noise = np.random.uniform( -1, 1, size = ( batch_size, noise_dim ) )\n",
        "\n",
        "    generatedImages = generator.predict( noise )\n",
        "\n",
        "    d_loss_real = discriminator.train_on_batch( realImages, np.ones( ( batch_size, 1 ) ) )\n",
        "    d_loss_fake = discriminator.train_on_batch( generatedImages, np.zeros( ( batch_size, 1 ) ) )\n",
        "    d_loss = 0.5 * np.add( d_loss_real, d_loss_fake ) \n",
        "\n",
        "    noise = np.random.uniform( -1, 1, size = ( batch_size, noise_dim ) )\n",
        "    g_loss = combined.train_on_batch( noise, np.ones( ( batch_size, 1 ) ) )\n",
        "\n",
        "    if i % checkpoint == 0:\n",
        "      saveImage( i, checkPointNoise )\n",
        "      print('d_loss_real = {}, d_loss_fake = {}, g_loss = {}'.format(d_loss_real[0], d_loss_fake[0], g_loss[0]))\n",
        "\n",
        "except Exception as e:\n",
        "  print(e)\n"
      ],
      "execution_count": 0,
      "outputs": [
        {
          "output_type": "stream",
          "text": [
            "WARNING:tensorflow:From /usr/local/lib/python3.6/dist-packages/keras/backend/tensorflow_backend.py:66: The name tf.get_default_graph is deprecated. Please use tf.compat.v1.get_default_graph instead.\n",
            "\n",
            "WARNING:tensorflow:From /usr/local/lib/python3.6/dist-packages/keras/backend/tensorflow_backend.py:541: The name tf.placeholder is deprecated. Please use tf.compat.v1.placeholder instead.\n",
            "\n",
            "WARNING:tensorflow:From /usr/local/lib/python3.6/dist-packages/keras/backend/tensorflow_backend.py:4432: The name tf.random_uniform is deprecated. Please use tf.random.uniform instead.\n",
            "\n",
            "WARNING:tensorflow:From /usr/local/lib/python3.6/dist-packages/keras/backend/tensorflow_backend.py:148: The name tf.placeholder_with_default is deprecated. Please use tf.compat.v1.placeholder_with_default instead.\n",
            "\n",
            "WARNING:tensorflow:From /usr/local/lib/python3.6/dist-packages/keras/backend/tensorflow_backend.py:3733: calling dropout (from tensorflow.python.ops.nn_ops) with keep_prob is deprecated and will be removed in a future version.\n",
            "Instructions for updating:\n",
            "Please use `rate` instead of `keep_prob`. Rate should be set to `rate = 1 - keep_prob`.\n",
            "WARNING:tensorflow:From /usr/local/lib/python3.6/dist-packages/keras/backend/tensorflow_backend.py:4409: The name tf.random_normal is deprecated. Please use tf.random.normal instead.\n",
            "\n",
            "WARNING:tensorflow:From /usr/local/lib/python3.6/dist-packages/keras/backend/tensorflow_backend.py:190: The name tf.get_default_session is deprecated. Please use tf.compat.v1.get_default_session instead.\n",
            "\n",
            "WARNING:tensorflow:From /usr/local/lib/python3.6/dist-packages/keras/backend/tensorflow_backend.py:197: The name tf.ConfigProto is deprecated. Please use tf.compat.v1.ConfigProto instead.\n",
            "\n",
            "WARNING:tensorflow:From /usr/local/lib/python3.6/dist-packages/keras/backend/tensorflow_backend.py:203: The name tf.Session is deprecated. Please use tf.compat.v1.Session instead.\n",
            "\n",
            "WARNING:tensorflow:From /usr/local/lib/python3.6/dist-packages/keras/backend/tensorflow_backend.py:207: The name tf.global_variables is deprecated. Please use tf.compat.v1.global_variables instead.\n",
            "\n",
            "WARNING:tensorflow:From /usr/local/lib/python3.6/dist-packages/keras/backend/tensorflow_backend.py:216: The name tf.is_variable_initialized is deprecated. Please use tf.compat.v1.is_variable_initialized instead.\n",
            "\n",
            "WARNING:tensorflow:From /usr/local/lib/python3.6/dist-packages/keras/backend/tensorflow_backend.py:223: The name tf.variables_initializer is deprecated. Please use tf.compat.v1.variables_initializer instead.\n",
            "\n",
            "WARNING:tensorflow:From /usr/local/lib/python3.6/dist-packages/keras/backend/tensorflow_backend.py:2041: The name tf.nn.fused_batch_norm is deprecated. Please use tf.compat.v1.nn.fused_batch_norm instead.\n",
            "\n",
            "WARNING:tensorflow:From /usr/local/lib/python3.6/dist-packages/keras/optimizers.py:793: The name tf.train.Optimizer is deprecated. Please use tf.compat.v1.train.Optimizer instead.\n",
            "\n",
            "WARNING:tensorflow:From /usr/local/lib/python3.6/dist-packages/keras/backend/tensorflow_backend.py:3657: The name tf.log is deprecated. Please use tf.math.log instead.\n",
            "\n",
            "WARNING:tensorflow:From /usr/local/lib/python3.6/dist-packages/tensorflow_core/python/ops/nn_impl.py:183: where (from tensorflow.python.ops.array_ops) is deprecated and will be removed in a future version.\n",
            "Instructions for updating:\n",
            "Use tf.where in 2.0, which has the same broadcast rule as np.where\n"
          ],
          "name": "stdout"
        },
        {
          "output_type": "stream",
          "text": [
            "\r  0%|          | 0/50000 [00:00<?, ?it/s]"
          ],
          "name": "stderr"
        },
        {
          "output_type": "stream",
          "text": [
            "Model: \"sequential_3\"\n",
            "_________________________________________________________________\n",
            "Layer (type)                 Output Shape              Param #   \n",
            "=================================================================\n",
            "sequential_1 (Sequential)    (None, 32, 32, 3)         12903951  \n",
            "_________________________________________________________________\n",
            "sequential_2 (Sequential)    (None, 1)                 390209    \n",
            "=================================================================\n",
            "Total params: 13,294,160\n",
            "Trainable params: 12,886,281\n",
            "Non-trainable params: 407,879\n",
            "_________________________________________________________________\n"
          ],
          "name": "stdout"
        },
        {
          "output_type": "stream",
          "text": [
            "/usr/local/lib/python3.6/dist-packages/keras/engine/training.py:493: UserWarning: Discrepancy between trainable weights and collected trainable weights, did you set `model.trainable` without calling `model.compile` after ?\n",
            "  'Discrepancy between trainable weights and collected trainable'\n"
          ],
          "name": "stderr"
        },
        {
          "output_type": "stream",
          "text": [
            "WARNING:tensorflow:From /usr/local/lib/python3.6/dist-packages/keras/backend/tensorflow_backend.py:1033: The name tf.assign_add is deprecated. Please use tf.compat.v1.assign_add instead.\n",
            "\n",
            "WARNING:tensorflow:From /usr/local/lib/python3.6/dist-packages/keras/backend/tensorflow_backend.py:1020: The name tf.assign is deprecated. Please use tf.compat.v1.assign instead.\n",
            "\n"
          ],
          "name": "stdout"
        },
        {
          "output_type": "stream",
          "text": [
            "/usr/local/lib/python3.6/dist-packages/keras/engine/training.py:493: UserWarning: Discrepancy between trainable weights and collected trainable weights, did you set `model.trainable` without calling `model.compile` after ?\n",
            "  'Discrepancy between trainable weights and collected trainable'\n",
            "  0%|          | 1/50000 [00:11<166:15:38, 11.97s/it]/usr/local/lib/python3.6/dist-packages/keras/engine/training.py:493: UserWarning: Discrepancy between trainable weights and collected trainable weights, did you set `model.trainable` without calling `model.compile` after ?\n",
            "  'Discrepancy between trainable weights and collected trainable'\n",
            "  0%|          | 2/50000 [00:12<116:54:17,  8.42s/it]"
          ],
          "name": "stderr"
        },
        {
          "output_type": "stream",
          "text": [
            "d_loss_real = 0.9471014142036438, d_loss_fake = 1.023795247077942, g_loss = 0.21501775085926056\n"
          ],
          "name": "stdout"
        },
        {
          "output_type": "stream",
          "text": [
            "  1%|          | 502/50000 [01:14<3:42:28,  3.71it/s]"
          ],
          "name": "stderr"
        },
        {
          "output_type": "stream",
          "text": [
            "d_loss_real = 0.005136944819241762, d_loss_fake = 0.0029678901191800833, g_loss = 0.008910189382731915\n"
          ],
          "name": "stdout"
        },
        {
          "output_type": "stream",
          "text": [
            "  2%|▏         | 1002/50000 [02:17<3:52:50,  3.51it/s]"
          ],
          "name": "stderr"
        },
        {
          "output_type": "stream",
          "text": [
            "d_loss_real = 0.004384032916277647, d_loss_fake = 0.01470707543194294, g_loss = 0.013547123409807682\n"
          ],
          "name": "stdout"
        },
        {
          "output_type": "stream",
          "text": [
            "  3%|▎         | 1502/50000 [03:19<3:26:40,  3.91it/s]"
          ],
          "name": "stderr"
        },
        {
          "output_type": "stream",
          "text": [
            "d_loss_real = 0.0008374778553843498, d_loss_fake = 0.0017176338005810976, g_loss = 0.001466355170123279\n"
          ],
          "name": "stdout"
        },
        {
          "output_type": "stream",
          "text": [
            "  4%|▍         | 2002/50000 [04:21<3:19:11,  4.02it/s]"
          ],
          "name": "stderr"
        },
        {
          "output_type": "stream",
          "text": [
            "d_loss_real = 0.012790404260158539, d_loss_fake = 0.015352689661085606, g_loss = 0.014920704998075962\n"
          ],
          "name": "stdout"
        },
        {
          "output_type": "stream",
          "text": [
            "  5%|▌         | 2502/50000 [05:23<3:18:11,  3.99it/s]"
          ],
          "name": "stderr"
        },
        {
          "output_type": "stream",
          "text": [
            "d_loss_real = 0.012337795458734035, d_loss_fake = 0.059713706374168396, g_loss = 0.01723533496260643\n"
          ],
          "name": "stdout"
        },
        {
          "output_type": "stream",
          "text": [
            "  6%|▌         | 3002/50000 [06:26<3:47:33,  3.44it/s]"
          ],
          "name": "stderr"
        },
        {
          "output_type": "stream",
          "text": [
            "d_loss_real = 0.0023015590850263834, d_loss_fake = 0.0034712215419858694, g_loss = 0.0039442493580281734\n"
          ],
          "name": "stdout"
        },
        {
          "output_type": "stream",
          "text": [
            "  7%|▋         | 3502/50000 [07:28<3:13:30,  4.00it/s]"
          ],
          "name": "stderr"
        },
        {
          "output_type": "stream",
          "text": [
            "d_loss_real = 0.003867147723212838, d_loss_fake = 0.0001865080848801881, g_loss = 0.0021947650238871574\n"
          ],
          "name": "stdout"
        },
        {
          "output_type": "stream",
          "text": [
            "  8%|▊         | 4002/50000 [08:30<3:17:09,  3.89it/s]"
          ],
          "name": "stderr"
        },
        {
          "output_type": "stream",
          "text": [
            "d_loss_real = 0.0077763707377016544, d_loss_fake = 0.002433066489174962, g_loss = 0.005583203863352537\n"
          ],
          "name": "stdout"
        },
        {
          "output_type": "stream",
          "text": [
            "  9%|▉         | 4502/50000 [09:31<3:08:21,  4.03it/s]"
          ],
          "name": "stderr"
        },
        {
          "output_type": "stream",
          "text": [
            "d_loss_real = 0.14077328145503998, d_loss_fake = 0.018853891640901566, g_loss = 0.00019671153859235346\n"
          ],
          "name": "stdout"
        },
        {
          "output_type": "stream",
          "text": [
            " 10%|█         | 5002/50000 [10:33<3:54:46,  3.19it/s]"
          ],
          "name": "stderr"
        },
        {
          "output_type": "stream",
          "text": [
            "d_loss_real = 0.002722938545048237, d_loss_fake = 0.0009742174297571182, g_loss = 0.009767726063728333\n"
          ],
          "name": "stdout"
        },
        {
          "output_type": "stream",
          "text": [
            " 11%|█         | 5502/50000 [11:36<3:10:54,  3.88it/s]"
          ],
          "name": "stderr"
        },
        {
          "output_type": "stream",
          "text": [
            "d_loss_real = 0.005251257214695215, d_loss_fake = 0.002492928644642234, g_loss = 0.004502603318542242\n"
          ],
          "name": "stdout"
        },
        {
          "output_type": "stream",
          "text": [
            " 12%|█▏        | 6002/50000 [12:39<3:09:34,  3.87it/s]"
          ],
          "name": "stderr"
        },
        {
          "output_type": "stream",
          "text": [
            "d_loss_real = 0.0469098836183548, d_loss_fake = 0.004983759485185146, g_loss = 0.003803952829912305\n"
          ],
          "name": "stdout"
        },
        {
          "output_type": "stream",
          "text": [
            " 13%|█▎        | 6502/50000 [13:42<3:12:41,  3.76it/s]"
          ],
          "name": "stderr"
        },
        {
          "output_type": "stream",
          "text": [
            "d_loss_real = 0.014978421851992607, d_loss_fake = 0.0014493223279714584, g_loss = 0.009814325720071793\n"
          ],
          "name": "stdout"
        },
        {
          "output_type": "stream",
          "text": [
            " 14%|█▍        | 7002/50000 [14:45<3:02:54,  3.92it/s]"
          ],
          "name": "stderr"
        },
        {
          "output_type": "stream",
          "text": [
            "d_loss_real = 0.010835375636816025, d_loss_fake = 4.244683441356756e-05, g_loss = 0.4251693785190582\n"
          ],
          "name": "stdout"
        },
        {
          "output_type": "stream",
          "text": [
            " 15%|█▌        | 7502/50000 [15:47<4:00:59,  2.94it/s]"
          ],
          "name": "stderr"
        },
        {
          "output_type": "stream",
          "text": [
            "d_loss_real = 0.19534125924110413, d_loss_fake = 0.07288536429405212, g_loss = 0.003364340402185917\n"
          ],
          "name": "stdout"
        },
        {
          "output_type": "stream",
          "text": [
            " 16%|█▌        | 8002/50000 [16:50<2:58:19,  3.93it/s]"
          ],
          "name": "stderr"
        },
        {
          "output_type": "stream",
          "text": [
            "d_loss_real = 0.002924226922914386, d_loss_fake = 0.00018100507440976799, g_loss = 0.003614303655922413\n"
          ],
          "name": "stdout"
        },
        {
          "output_type": "stream",
          "text": [
            " 17%|█▋        | 8502/50000 [17:52<2:51:05,  4.04it/s]"
          ],
          "name": "stderr"
        },
        {
          "output_type": "stream",
          "text": [
            "d_loss_real = 1.3771047592163086, d_loss_fake = 1.482761025428772, g_loss = 0.0514054000377655\n"
          ],
          "name": "stdout"
        },
        {
          "output_type": "stream",
          "text": [
            " 18%|█▊        | 9002/50000 [18:53<2:51:18,  3.99it/s]"
          ],
          "name": "stderr"
        },
        {
          "output_type": "stream",
          "text": [
            "d_loss_real = 0.06750667840242386, d_loss_fake = 0.03857703134417534, g_loss = 0.015384291298687458\n"
          ],
          "name": "stdout"
        },
        {
          "output_type": "stream",
          "text": [
            " 19%|█▉        | 9502/50000 [19:55<2:53:18,  3.89it/s]"
          ],
          "name": "stderr"
        },
        {
          "output_type": "stream",
          "text": [
            "d_loss_real = 0.12659533321857452, d_loss_fake = 0.0003762104024644941, g_loss = 0.0639277920126915\n"
          ],
          "name": "stdout"
        },
        {
          "output_type": "stream",
          "text": [
            " 20%|██        | 10002/50000 [20:56<2:49:25,  3.93it/s]"
          ],
          "name": "stderr"
        },
        {
          "output_type": "stream",
          "text": [
            "d_loss_real = 0.020080506801605225, d_loss_fake = 0.000545529299415648, g_loss = 0.006068564020097256\n"
          ],
          "name": "stdout"
        },
        {
          "output_type": "stream",
          "text": [
            " 21%|██        | 10502/50000 [21:57<2:38:07,  4.16it/s]"
          ],
          "name": "stderr"
        },
        {
          "output_type": "stream",
          "text": [
            "d_loss_real = 0.002552805468440056, d_loss_fake = 4.255817839293741e-05, g_loss = 0.00374717079102993\n"
          ],
          "name": "stdout"
        },
        {
          "output_type": "stream",
          "text": [
            " 22%|██▏       | 11002/50000 [22:58<3:48:59,  2.84it/s]"
          ],
          "name": "stderr"
        },
        {
          "output_type": "stream",
          "text": [
            "d_loss_real = 0.004126803483814001, d_loss_fake = 0.007956506684422493, g_loss = 0.00522001925855875\n"
          ],
          "name": "stdout"
        },
        {
          "output_type": "stream",
          "text": [
            " 23%|██▎       | 11502/50000 [23:59<2:44:46,  3.89it/s]"
          ],
          "name": "stderr"
        },
        {
          "output_type": "stream",
          "text": [
            "d_loss_real = 0.0031702255364507437, d_loss_fake = 0.0017112285131588578, g_loss = 0.00296033569611609\n"
          ],
          "name": "stdout"
        },
        {
          "output_type": "stream",
          "text": [
            " 24%|██▍       | 12002/50000 [25:01<2:50:37,  3.71it/s]"
          ],
          "name": "stderr"
        },
        {
          "output_type": "stream",
          "text": [
            "d_loss_real = 0.007162482012063265, d_loss_fake = 8.486789010930806e-05, g_loss = 0.009059884585440159\n"
          ],
          "name": "stdout"
        },
        {
          "output_type": "stream",
          "text": [
            " 25%|██▌       | 12502/50000 [26:03<2:33:53,  4.06it/s]"
          ],
          "name": "stderr"
        },
        {
          "output_type": "stream",
          "text": [
            "d_loss_real = 0.05213695764541626, d_loss_fake = 0.07630790770053864, g_loss = 0.09864861518144608\n"
          ],
          "name": "stdout"
        },
        {
          "output_type": "stream",
          "text": [
            " 26%|██▌       | 13002/50000 [27:06<4:40:03,  2.20it/s]"
          ],
          "name": "stderr"
        },
        {
          "output_type": "stream",
          "text": [
            "d_loss_real = 0.04349908232688904, d_loss_fake = 0.010341016575694084, g_loss = 0.026754135265946388\n"
          ],
          "name": "stdout"
        },
        {
          "output_type": "stream",
          "text": [
            " 27%|██▋       | 13502/50000 [28:08<2:31:37,  4.01it/s]"
          ],
          "name": "stderr"
        },
        {
          "output_type": "stream",
          "text": [
            "d_loss_real = 0.2368640899658203, d_loss_fake = 0.3696371018886566, g_loss = 0.06968925893306732\n"
          ],
          "name": "stdout"
        },
        {
          "output_type": "stream",
          "text": [
            " 28%|██▊       | 14002/50000 [29:10<2:30:22,  3.99it/s]"
          ],
          "name": "stderr"
        },
        {
          "output_type": "stream",
          "text": [
            "d_loss_real = 0.10701431334018707, d_loss_fake = 0.001174562145024538, g_loss = 0.020318515598773956\n"
          ],
          "name": "stdout"
        },
        {
          "output_type": "stream",
          "text": [
            " 29%|██▉       | 14502/50000 [30:12<2:25:24,  4.07it/s]"
          ],
          "name": "stderr"
        },
        {
          "output_type": "stream",
          "text": [
            "d_loss_real = 0.037800487130880356, d_loss_fake = 0.13515299558639526, g_loss = 0.04940395802259445\n"
          ],
          "name": "stdout"
        },
        {
          "output_type": "stream",
          "text": [
            " 30%|███       | 15002/50000 [31:15<3:39:30,  2.66it/s]"
          ],
          "name": "stderr"
        },
        {
          "output_type": "stream",
          "text": [
            "d_loss_real = 0.20921659469604492, d_loss_fake = 0.0018516886048018932, g_loss = 0.2403809130191803\n"
          ],
          "name": "stdout"
        },
        {
          "output_type": "stream",
          "text": [
            " 31%|███       | 15502/50000 [32:16<2:25:35,  3.95it/s]"
          ],
          "name": "stderr"
        },
        {
          "output_type": "stream",
          "text": [
            "d_loss_real = 0.04698587954044342, d_loss_fake = 0.0037550413981080055, g_loss = 0.030499953776597977\n"
          ],
          "name": "stdout"
        },
        {
          "output_type": "stream",
          "text": [
            " 32%|███▏      | 16002/50000 [33:17<2:26:03,  3.88it/s]"
          ],
          "name": "stderr"
        },
        {
          "output_type": "stream",
          "text": [
            "d_loss_real = 0.14289571344852448, d_loss_fake = 0.0134429931640625, g_loss = 0.6159259676933289\n"
          ],
          "name": "stdout"
        },
        {
          "output_type": "stream",
          "text": [
            " 33%|███▎      | 16502/50000 [34:19<2:19:42,  4.00it/s]"
          ],
          "name": "stderr"
        },
        {
          "output_type": "stream",
          "text": [
            "d_loss_real = 0.16299857199192047, d_loss_fake = 0.0007858761237002909, g_loss = 0.11763286590576172\n"
          ],
          "name": "stdout"
        },
        {
          "output_type": "stream",
          "text": [
            " 34%|███▍      | 17002/50000 [35:20<2:21:13,  3.89it/s]"
          ],
          "name": "stderr"
        },
        {
          "output_type": "stream",
          "text": [
            "d_loss_real = 0.00672850850969553, d_loss_fake = 0.0009672338492237031, g_loss = 0.006060094106942415\n"
          ],
          "name": "stdout"
        },
        {
          "output_type": "stream",
          "text": [
            " 35%|███▌      | 17502/50000 [36:22<2:15:49,  3.99it/s]"
          ],
          "name": "stderr"
        },
        {
          "output_type": "stream",
          "text": [
            "d_loss_real = 2.7160897254943848, d_loss_fake = 0.5829223394393921, g_loss = 0.04432911053299904\n"
          ],
          "name": "stdout"
        },
        {
          "output_type": "stream",
          "text": [
            " 36%|███▌      | 18002/50000 [37:24<2:48:29,  3.17it/s]"
          ],
          "name": "stderr"
        },
        {
          "output_type": "stream",
          "text": [
            "d_loss_real = 0.00637234840542078, d_loss_fake = 0.06872629374265671, g_loss = 0.010282063856720924\n"
          ],
          "name": "stdout"
        },
        {
          "output_type": "stream",
          "text": [
            " 37%|███▋      | 18502/50000 [38:26<2:11:39,  3.99it/s]"
          ],
          "name": "stderr"
        },
        {
          "output_type": "stream",
          "text": [
            "d_loss_real = 0.014566030353307724, d_loss_fake = 0.00013634537754114717, g_loss = 0.01780271716415882\n"
          ],
          "name": "stdout"
        },
        {
          "output_type": "stream",
          "text": [
            " 38%|███▊      | 19002/50000 [39:27<2:11:27,  3.93it/s]"
          ],
          "name": "stderr"
        },
        {
          "output_type": "stream",
          "text": [
            "d_loss_real = 0.0048948023468256, d_loss_fake = 0.021198900416493416, g_loss = 0.009489903226494789\n"
          ],
          "name": "stdout"
        },
        {
          "output_type": "stream",
          "text": [
            " 39%|███▉      | 19502/50000 [40:29<2:11:41,  3.86it/s]"
          ],
          "name": "stderr"
        },
        {
          "output_type": "stream",
          "text": [
            "d_loss_real = 0.02074386551976204, d_loss_fake = 0.0071469019167125225, g_loss = 0.00776786869391799\n"
          ],
          "name": "stdout"
        },
        {
          "output_type": "stream",
          "text": [
            " 40%|████      | 20002/50000 [41:31<3:28:44,  2.40it/s]"
          ],
          "name": "stderr"
        },
        {
          "output_type": "stream",
          "text": [
            "d_loss_real = 0.1729002594947815, d_loss_fake = 0.03916741535067558, g_loss = 0.024485517293214798\n"
          ],
          "name": "stdout"
        },
        {
          "output_type": "stream",
          "text": [
            " 41%|████      | 20502/50000 [42:33<2:06:40,  3.88it/s]"
          ],
          "name": "stderr"
        },
        {
          "output_type": "stream",
          "text": [
            "d_loss_real = 0.1584467589855194, d_loss_fake = 0.013670948334038258, g_loss = 0.008124358020722866\n"
          ],
          "name": "stdout"
        },
        {
          "output_type": "stream",
          "text": [
            " 42%|████▏     | 21002/50000 [43:35<2:01:28,  3.98it/s]"
          ],
          "name": "stderr"
        },
        {
          "output_type": "stream",
          "text": [
            "d_loss_real = 0.03615891933441162, d_loss_fake = 0.023523343726992607, g_loss = 0.03752048313617706\n"
          ],
          "name": "stdout"
        },
        {
          "output_type": "stream",
          "text": [
            " 43%|████▎     | 21502/50000 [44:36<2:07:48,  3.72it/s]"
          ],
          "name": "stderr"
        },
        {
          "output_type": "stream",
          "text": [
            "d_loss_real = 0.027706604450941086, d_loss_fake = 0.005074505228549242, g_loss = 0.0023652431555092335\n"
          ],
          "name": "stdout"
        },
        {
          "output_type": "stream",
          "text": [
            " 44%|████▍     | 22002/50000 [45:38<1:57:35,  3.97it/s]"
          ],
          "name": "stderr"
        },
        {
          "output_type": "stream",
          "text": [
            "d_loss_real = 0.00522117642685771, d_loss_fake = 0.038341689854860306, g_loss = 0.009470474906265736\n"
          ],
          "name": "stdout"
        },
        {
          "output_type": "stream",
          "text": [
            " 45%|████▌     | 22502/50000 [46:40<1:53:09,  4.05it/s]"
          ],
          "name": "stderr"
        },
        {
          "output_type": "stream",
          "text": [
            "d_loss_real = 0.0032883433159440756, d_loss_fake = 0.0009566113585606217, g_loss = 0.010965048335492611\n"
          ],
          "name": "stdout"
        },
        {
          "output_type": "stream",
          "text": [
            " 46%|████▌     | 23002/50000 [47:41<1:52:49,  3.99it/s]"
          ],
          "name": "stderr"
        },
        {
          "output_type": "stream",
          "text": [
            "d_loss_real = 0.004685318563133478, d_loss_fake = 4.379217716632411e-05, g_loss = 0.007865995168685913\n"
          ],
          "name": "stdout"
        },
        {
          "output_type": "stream",
          "text": [
            " 47%|████▋     | 23502/50000 [48:43<1:50:42,  3.99it/s]"
          ],
          "name": "stderr"
        },
        {
          "output_type": "stream",
          "text": [
            "d_loss_real = 0.0034046261571347713, d_loss_fake = 0.00010670120536815375, g_loss = 0.004526028875261545\n"
          ],
          "name": "stdout"
        },
        {
          "output_type": "stream",
          "text": [
            " 48%|████▊     | 24002/50000 [49:44<1:54:00,  3.80it/s]"
          ],
          "name": "stderr"
        },
        {
          "output_type": "stream",
          "text": [
            "d_loss_real = 0.02838021330535412, d_loss_fake = 0.004530441481620073, g_loss = 0.042732320725917816\n"
          ],
          "name": "stdout"
        },
        {
          "output_type": "stream",
          "text": [
            " 49%|████▉     | 24502/50000 [50:45<1:44:22,  4.07it/s]"
          ],
          "name": "stderr"
        },
        {
          "output_type": "stream",
          "text": [
            "d_loss_real = 0.03142299875617027, d_loss_fake = 0.009809915907680988, g_loss = 0.09961628168821335\n"
          ],
          "name": "stdout"
        },
        {
          "output_type": "stream",
          "text": [
            " 50%|█████     | 25002/50000 [51:47<1:46:47,  3.90it/s]"
          ],
          "name": "stderr"
        },
        {
          "output_type": "stream",
          "text": [
            "d_loss_real = 0.02761228196322918, d_loss_fake = 0.01237709540873766, g_loss = 0.06866093724966049\n"
          ],
          "name": "stdout"
        },
        {
          "output_type": "stream",
          "text": [
            " 51%|█████     | 25502/50000 [52:48<1:46:49,  3.82it/s]"
          ],
          "name": "stderr"
        },
        {
          "output_type": "stream",
          "text": [
            "d_loss_real = 0.04106159508228302, d_loss_fake = 0.00016389529628213495, g_loss = 0.060609232634305954\n"
          ],
          "name": "stdout"
        },
        {
          "output_type": "stream",
          "text": [
            " 52%|█████▏    | 26002/50000 [53:50<2:16:27,  2.93it/s]"
          ],
          "name": "stderr"
        },
        {
          "output_type": "stream",
          "text": [
            "d_loss_real = 0.009601148776710033, d_loss_fake = 4.00697608711198e-05, g_loss = 0.00811510905623436\n"
          ],
          "name": "stdout"
        },
        {
          "output_type": "stream",
          "text": [
            " 53%|█████▎    | 26502/50000 [54:53<3:17:14,  1.99it/s]"
          ],
          "name": "stderr"
        },
        {
          "output_type": "stream",
          "text": [
            "d_loss_real = 0.0058676558546721935, d_loss_fake = 0.011198865249752998, g_loss = 0.007093728985637426\n"
          ],
          "name": "stdout"
        },
        {
          "output_type": "stream",
          "text": [
            " 54%|█████▍    | 27002/50000 [55:54<1:25:19,  4.49it/s]"
          ],
          "name": "stderr"
        },
        {
          "output_type": "stream",
          "text": [
            "d_loss_real = 0.11123385280370712, d_loss_fake = 0.027297649532556534, g_loss = 0.1880090981721878\n"
          ],
          "name": "stdout"
        },
        {
          "output_type": "stream",
          "text": [
            " 55%|█████▌    | 27502/50000 [56:55<1:34:41,  3.96it/s]"
          ],
          "name": "stderr"
        },
        {
          "output_type": "stream",
          "text": [
            "d_loss_real = 0.5237417221069336, d_loss_fake = 0.4076734483242035, g_loss = 0.002761121140792966\n"
          ],
          "name": "stdout"
        },
        {
          "output_type": "stream",
          "text": [
            " 56%|█████▌    | 28002/50000 [57:57<1:27:08,  4.21it/s]"
          ],
          "name": "stderr"
        },
        {
          "output_type": "stream",
          "text": [
            "d_loss_real = 0.02130436897277832, d_loss_fake = 0.002599806059151888, g_loss = 0.02637249231338501\n"
          ],
          "name": "stdout"
        },
        {
          "output_type": "stream",
          "text": [
            " 57%|█████▋    | 28502/50000 [58:58<1:28:12,  4.06it/s]"
          ],
          "name": "stderr"
        },
        {
          "output_type": "stream",
          "text": [
            "d_loss_real = 0.039483655244112015, d_loss_fake = 0.06856205314397812, g_loss = 0.03520692139863968\n"
          ],
          "name": "stdout"
        },
        {
          "output_type": "stream",
          "text": [
            " 58%|█████▊    | 29002/50000 [1:00:00<1:20:36,  4.34it/s]"
          ],
          "name": "stderr"
        },
        {
          "output_type": "stream",
          "text": [
            "d_loss_real = 0.37677839398384094, d_loss_fake = 0.002678260672837496, g_loss = 0.33248552680015564\n"
          ],
          "name": "stdout"
        },
        {
          "output_type": "stream",
          "text": [
            " 59%|█████▉    | 29502/50000 [1:01:02<1:18:55,  4.33it/s]"
          ],
          "name": "stderr"
        },
        {
          "output_type": "stream",
          "text": [
            "d_loss_real = 0.0012010018108412623, d_loss_fake = 0.00047156523214653134, g_loss = 0.0028772077057510614\n"
          ],
          "name": "stdout"
        },
        {
          "output_type": "stream",
          "text": [
            " 60%|██████    | 30002/50000 [1:02:04<1:17:14,  4.32it/s]"
          ],
          "name": "stderr"
        },
        {
          "output_type": "stream",
          "text": [
            "d_loss_real = 0.008198865689337254, d_loss_fake = 0.2165873944759369, g_loss = 0.002688542939722538\n"
          ],
          "name": "stdout"
        },
        {
          "output_type": "stream",
          "text": [
            " 61%|██████    | 30502/50000 [1:03:05<1:14:46,  4.35it/s]"
          ],
          "name": "stderr"
        },
        {
          "output_type": "stream",
          "text": [
            "d_loss_real = 0.12414971739053726, d_loss_fake = 0.016833152621984482, g_loss = 0.03799451142549515\n"
          ],
          "name": "stdout"
        },
        {
          "output_type": "stream",
          "text": [
            " 62%|██████▏   | 31002/50000 [1:04:06<1:14:56,  4.23it/s]"
          ],
          "name": "stderr"
        },
        {
          "output_type": "stream",
          "text": [
            "d_loss_real = 0.03543001785874367, d_loss_fake = 0.004540886729955673, g_loss = 0.054878611117601395\n"
          ],
          "name": "stdout"
        },
        {
          "output_type": "stream",
          "text": [
            " 63%|██████▎   | 31502/50000 [1:05:08<1:16:50,  4.01it/s]"
          ],
          "name": "stderr"
        },
        {
          "output_type": "stream",
          "text": [
            "d_loss_real = 0.019223835319280624, d_loss_fake = 0.00019704173610080034, g_loss = 0.0287198256701231\n"
          ],
          "name": "stdout"
        },
        {
          "output_type": "stream",
          "text": [
            " 64%|██████▍   | 32002/50000 [1:06:10<1:05:47,  4.56it/s]"
          ],
          "name": "stderr"
        },
        {
          "output_type": "stream",
          "text": [
            "d_loss_real = 0.564837634563446, d_loss_fake = 0.43435028195381165, g_loss = 0.04761982336640358\n"
          ],
          "name": "stdout"
        },
        {
          "output_type": "stream",
          "text": [
            " 65%|██████▌   | 32502/50000 [1:07:11<1:06:04,  4.41it/s]"
          ],
          "name": "stderr"
        },
        {
          "output_type": "stream",
          "text": [
            "d_loss_real = 0.10689685493707657, d_loss_fake = 0.367505818605423, g_loss = 0.056439150124788284\n"
          ],
          "name": "stdout"
        },
        {
          "output_type": "stream",
          "text": [
            " 66%|██████▌   | 33002/50000 [1:08:13<1:04:40,  4.38it/s]"
          ],
          "name": "stderr"
        },
        {
          "output_type": "stream",
          "text": [
            "d_loss_real = 0.011623757891356945, d_loss_fake = 0.005115067586302757, g_loss = 0.050257060676813126\n"
          ],
          "name": "stdout"
        },
        {
          "output_type": "stream",
          "text": [
            " 67%|██████▋   | 33502/50000 [1:09:16<1:11:47,  3.83it/s]"
          ],
          "name": "stderr"
        },
        {
          "output_type": "stream",
          "text": [
            "d_loss_real = 0.134187713265419, d_loss_fake = 0.045298993587493896, g_loss = 0.11725623905658722\n"
          ],
          "name": "stdout"
        },
        {
          "output_type": "stream",
          "text": [
            " 68%|██████▊   | 34002/50000 [1:10:17<58:51,  4.53it/s]  "
          ],
          "name": "stderr"
        },
        {
          "output_type": "stream",
          "text": [
            "d_loss_real = 0.07615438103675842, d_loss_fake = 9.566200606059283e-05, g_loss = 0.09098280966281891\n"
          ],
          "name": "stdout"
        },
        {
          "output_type": "stream",
          "text": [
            " 69%|██████▉   | 34502/50000 [1:11:20<2:12:10,  1.95it/s]"
          ],
          "name": "stderr"
        },
        {
          "output_type": "stream",
          "text": [
            "d_loss_real = 0.02397649735212326, d_loss_fake = 0.8592815399169922, g_loss = 0.08883780986070633\n"
          ],
          "name": "stdout"
        },
        {
          "output_type": "stream",
          "text": [
            " 70%|███████   | 35002/50000 [1:12:22<1:04:21,  3.88it/s]"
          ],
          "name": "stderr"
        },
        {
          "output_type": "stream",
          "text": [
            "d_loss_real = 1.573052167892456, d_loss_fake = 0.9861900806427002, g_loss = 0.03118828684091568\n"
          ],
          "name": "stdout"
        },
        {
          "output_type": "stream",
          "text": [
            " 71%|███████   | 35502/50000 [1:13:23<53:29,  4.52it/s]  "
          ],
          "name": "stderr"
        },
        {
          "output_type": "stream",
          "text": [
            "d_loss_real = 0.7879672646522522, d_loss_fake = 0.3086027204990387, g_loss = 0.086174376308918\n"
          ],
          "name": "stdout"
        },
        {
          "output_type": "stream",
          "text": [
            " 72%|███████▏  | 36002/50000 [1:14:25<51:27,  4.53it/s]  "
          ],
          "name": "stderr"
        },
        {
          "output_type": "stream",
          "text": [
            "d_loss_real = 0.4090193212032318, d_loss_fake = 0.4556728005409241, g_loss = 0.5453782081604004\n"
          ],
          "name": "stdout"
        },
        {
          "output_type": "stream",
          "text": [
            " 73%|███████▎  | 36502/50000 [1:15:26<51:33,  4.36it/s]  "
          ],
          "name": "stderr"
        },
        {
          "output_type": "stream",
          "text": [
            "d_loss_real = 3.815559148788452, d_loss_fake = 0.19825604557991028, g_loss = 0.15175676345825195\n"
          ],
          "name": "stdout"
        },
        {
          "output_type": "stream",
          "text": [
            " 74%|███████▍  | 37002/50000 [1:16:28<47:40,  4.54it/s]"
          ],
          "name": "stderr"
        },
        {
          "output_type": "stream",
          "text": [
            "d_loss_real = 0.028498662635684013, d_loss_fake = 0.12411990761756897, g_loss = 0.014926264993846416\n"
          ],
          "name": "stdout"
        },
        {
          "output_type": "stream",
          "text": [
            " 75%|███████▌  | 37502/50000 [1:17:29<47:56,  4.34it/s]"
          ],
          "name": "stderr"
        },
        {
          "output_type": "stream",
          "text": [
            "d_loss_real = 0.24532955884933472, d_loss_fake = 0.005372066982090473, g_loss = 0.06829777359962463\n"
          ],
          "name": "stdout"
        },
        {
          "output_type": "stream",
          "text": [
            " 76%|███████▌  | 38002/50000 [1:18:30<1:10:09,  2.85it/s]"
          ],
          "name": "stderr"
        },
        {
          "output_type": "stream",
          "text": [
            "d_loss_real = 0.11689666658639908, d_loss_fake = 0.10888274013996124, g_loss = 0.13602367043495178\n"
          ],
          "name": "stdout"
        },
        {
          "output_type": "stream",
          "text": [
            " 77%|███████▋  | 38502/50000 [1:19:32<41:32,  4.61it/s]"
          ],
          "name": "stderr"
        },
        {
          "output_type": "stream",
          "text": [
            "d_loss_real = 0.1802719384431839, d_loss_fake = 0.0008690955000929534, g_loss = 0.13665278255939484\n"
          ],
          "name": "stdout"
        },
        {
          "output_type": "stream",
          "text": [
            " 78%|███████▊  | 39002/50000 [1:20:33<45:50,  4.00it/s]"
          ],
          "name": "stderr"
        },
        {
          "output_type": "stream",
          "text": [
            "d_loss_real = 0.3876749873161316, d_loss_fake = 0.032568033784627914, g_loss = 0.3317852020263672\n"
          ],
          "name": "stdout"
        },
        {
          "output_type": "stream",
          "text": [
            " 79%|███████▉  | 39502/50000 [1:21:36<38:49,  4.51it/s]"
          ],
          "name": "stderr"
        },
        {
          "output_type": "stream",
          "text": [
            "d_loss_real = 0.20834863185882568, d_loss_fake = 0.3405352830886841, g_loss = 0.227948859333992\n"
          ],
          "name": "stdout"
        },
        {
          "output_type": "stream",
          "text": [
            " 80%|████████  | 40002/50000 [1:22:37<37:01,  4.50it/s]"
          ],
          "name": "stderr"
        },
        {
          "output_type": "stream",
          "text": [
            "d_loss_real = 0.30807411670684814, d_loss_fake = 0.6534117460250854, g_loss = 0.4449615478515625\n"
          ],
          "name": "stdout"
        },
        {
          "output_type": "stream",
          "text": [
            " 81%|████████  | 40502/50000 [1:23:38<35:32,  4.45it/s]"
          ],
          "name": "stderr"
        },
        {
          "output_type": "stream",
          "text": [
            "d_loss_real = 0.18561436235904694, d_loss_fake = 0.09480608254671097, g_loss = 0.24739621579647064\n"
          ],
          "name": "stdout"
        },
        {
          "output_type": "stream",
          "text": [
            " 82%|████████▏ | 41002/50000 [1:24:38<34:04,  4.40it/s]"
          ],
          "name": "stderr"
        },
        {
          "output_type": "stream",
          "text": [
            "d_loss_real = 0.8054897785186768, d_loss_fake = 1.0173805952072144, g_loss = 0.36312150955200195\n"
          ],
          "name": "stdout"
        },
        {
          "output_type": "stream",
          "text": [
            " 83%|████████▎ | 41502/50000 [1:25:41<31:08,  4.55it/s]"
          ],
          "name": "stderr"
        },
        {
          "output_type": "stream",
          "text": [
            "d_loss_real = 0.2579798698425293, d_loss_fake = 0.7133947610855103, g_loss = 0.603451669216156\n"
          ],
          "name": "stdout"
        },
        {
          "output_type": "stream",
          "text": [
            " 84%|████████▍ | 42002/50000 [1:26:42<30:03,  4.43it/s]"
          ],
          "name": "stderr"
        },
        {
          "output_type": "stream",
          "text": [
            "d_loss_real = 0.5596582889556885, d_loss_fake = 0.6586464047431946, g_loss = 0.7544214129447937\n"
          ],
          "name": "stdout"
        },
        {
          "output_type": "stream",
          "text": [
            " 85%|████████▌ | 42502/50000 [1:27:43<29:01,  4.31it/s]"
          ],
          "name": "stderr"
        },
        {
          "output_type": "stream",
          "text": [
            "d_loss_real = 0.7455080151557922, d_loss_fake = 0.7109326124191284, g_loss = 0.5865261554718018\n"
          ],
          "name": "stdout"
        },
        {
          "output_type": "stream",
          "text": [
            " 86%|████████▌ | 43002/50000 [1:28:44<29:56,  3.90it/s]"
          ],
          "name": "stderr"
        },
        {
          "output_type": "stream",
          "text": [
            "d_loss_real = 0.34055376052856445, d_loss_fake = 0.0742674171924591, g_loss = 0.5070613026618958\n"
          ],
          "name": "stdout"
        },
        {
          "output_type": "stream",
          "text": [
            " 87%|████████▋ | 43502/50000 [1:29:46<24:07,  4.49it/s]"
          ],
          "name": "stderr"
        },
        {
          "output_type": "stream",
          "text": [
            "d_loss_real = 0.24147051572799683, d_loss_fake = 0.5600963234901428, g_loss = 0.9097769260406494\n"
          ],
          "name": "stdout"
        },
        {
          "output_type": "stream",
          "text": [
            " 88%|████████▊ | 44002/50000 [1:30:48<23:37,  4.23it/s]"
          ],
          "name": "stderr"
        },
        {
          "output_type": "stream",
          "text": [
            "d_loss_real = 0.6029267311096191, d_loss_fake = 0.20052003860473633, g_loss = 1.3176178932189941\n"
          ],
          "name": "stdout"
        },
        {
          "output_type": "stream",
          "text": [
            " 89%|████████▉ | 44502/50000 [1:31:50<52:31,  1.74it/s]  "
          ],
          "name": "stderr"
        },
        {
          "output_type": "stream",
          "text": [
            "d_loss_real = 0.47538280487060547, d_loss_fake = 0.32163113355636597, g_loss = 1.8937913179397583\n"
          ],
          "name": "stdout"
        },
        {
          "output_type": "stream",
          "text": [
            " 90%|█████████ | 45002/50000 [1:32:53<20:08,  4.14it/s]"
          ],
          "name": "stderr"
        },
        {
          "output_type": "stream",
          "text": [
            "d_loss_real = 0.3935638964176178, d_loss_fake = 0.36000028252601624, g_loss = 1.6113905906677246\n"
          ],
          "name": "stdout"
        },
        {
          "output_type": "stream",
          "text": [
            " 91%|█████████ | 45502/50000 [1:33:54<18:41,  4.01it/s]"
          ],
          "name": "stderr"
        },
        {
          "output_type": "stream",
          "text": [
            "d_loss_real = 0.4423849880695343, d_loss_fake = 0.23727816343307495, g_loss = 1.5920686721801758\n"
          ],
          "name": "stdout"
        },
        {
          "output_type": "stream",
          "text": [
            " 92%|█████████▏| 46002/50000 [1:34:55<15:47,  4.22it/s]"
          ],
          "name": "stderr"
        },
        {
          "output_type": "stream",
          "text": [
            "d_loss_real = 0.2783255875110626, d_loss_fake = 0.270923912525177, g_loss = 1.9959354400634766\n"
          ],
          "name": "stdout"
        },
        {
          "output_type": "stream",
          "text": [
            " 93%|█████████▎| 46502/50000 [1:35:56<13:23,  4.35it/s]"
          ],
          "name": "stderr"
        },
        {
          "output_type": "stream",
          "text": [
            "d_loss_real = 0.2850818932056427, d_loss_fake = 0.22834324836730957, g_loss = 1.3453400135040283\n"
          ],
          "name": "stdout"
        },
        {
          "output_type": "stream",
          "text": [
            " 94%|█████████▍| 47002/50000 [1:36:59<12:02,  4.15it/s]"
          ],
          "name": "stderr"
        },
        {
          "output_type": "stream",
          "text": [
            "d_loss_real = 0.29626473784446716, d_loss_fake = 0.18778441846370697, g_loss = 1.9439562559127808\n"
          ],
          "name": "stdout"
        },
        {
          "output_type": "stream",
          "text": [
            " 95%|█████████▌| 47502/50000 [1:38:00<10:21,  4.02it/s]"
          ],
          "name": "stderr"
        },
        {
          "output_type": "stream",
          "text": [
            "d_loss_real = 0.21244902908802032, d_loss_fake = 0.3864581286907196, g_loss = 2.2939298152923584\n"
          ],
          "name": "stdout"
        },
        {
          "output_type": "stream",
          "text": [
            " 96%|█████████▌| 48002/50000 [1:39:02<07:25,  4.48it/s]"
          ],
          "name": "stderr"
        },
        {
          "output_type": "stream",
          "text": [
            "d_loss_real = 0.23778994381427765, d_loss_fake = 0.21412493288516998, g_loss = 2.4779059886932373\n"
          ],
          "name": "stdout"
        },
        {
          "output_type": "stream",
          "text": [
            " 97%|█████████▋| 48502/50000 [1:40:03<05:44,  4.34it/s]"
          ],
          "name": "stderr"
        },
        {
          "output_type": "stream",
          "text": [
            "d_loss_real = 0.18833774328231812, d_loss_fake = 0.3552331030368805, g_loss = 2.268435001373291\n"
          ],
          "name": "stdout"
        },
        {
          "output_type": "stream",
          "text": [
            " 98%|█████████▊| 49002/50000 [1:41:03<03:39,  4.55it/s]"
          ],
          "name": "stderr"
        },
        {
          "output_type": "stream",
          "text": [
            "d_loss_real = 0.21028417348861694, d_loss_fake = 0.35040798783302307, g_loss = 2.9932732582092285\n"
          ],
          "name": "stdout"
        },
        {
          "output_type": "stream",
          "text": [
            " 99%|█████████▉| 49502/50000 [1:42:06<02:20,  3.55it/s]"
          ],
          "name": "stderr"
        },
        {
          "output_type": "stream",
          "text": [
            "d_loss_real = 0.17584742605686188, d_loss_fake = 0.1662941426038742, g_loss = 2.8627889156341553\n"
          ],
          "name": "stdout"
        },
        {
          "output_type": "stream",
          "text": [
            "100%|██████████| 50000/50000 [1:43:07<00:00,  8.28it/s]\n"
          ],
          "name": "stderr"
        }
      ]
    },
    {
      "cell_type": "markdown",
      "metadata": {
        "id": "dt8B2CrHicXw",
        "colab_type": "text"
      },
      "source": [
        "学習したモデルを保存します。"
      ]
    },
    {
      "cell_type": "code",
      "metadata": {
        "id": "X5i13Bndotp8",
        "colab_type": "code",
        "colab": {}
      },
      "source": [
        "generator.save('drive/My Drive/dcgan_test/test_generator.hdf5')\n",
        "discriminator.save('drive/My Drive/dcgan_test/test_discriminator.hdf5')"
      ],
      "execution_count": 0,
      "outputs": []
    },
    {
      "cell_type": "markdown",
      "metadata": {
        "id": "hdZxK6KC3I7p",
        "colab_type": "text"
      },
      "source": [
        "# 学習結果を試してみる\n",
        "1つ上までで試した結果を試してみましょう。\n",
        "まずは、ランダムに潜在変数を作成して、それを元に画像を生成してみます"
      ]
    },
    {
      "cell_type": "code",
      "metadata": {
        "id": "c11tyi3wMBv7",
        "colab_type": "code",
        "colab": {}
      },
      "source": [
        "generator = make_generator()\n",
        "\n",
        "# 潜在変数を生成します\n",
        "noise = np.random.uniform(-1, 1, (25, noise_dim))\n",
        "\n",
        "generator.load_weights('drive/My Drive/dcgan_test/test_generator.hdf5')\n",
        "\n",
        "saveImage(99999, noise)\n",
        "\n"
      ],
      "execution_count": 0,
      "outputs": []
    }
  ]
}