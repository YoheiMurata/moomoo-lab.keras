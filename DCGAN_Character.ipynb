{
  "nbformat": 4,
  "nbformat_minor": 0,
  "metadata": {
    "colab": {
      "name": "DCGAN-Character.ipynb",
      "provenance": [],
      "collapsed_sections": [],
      "include_colab_link": true
    },
    "kernelspec": {
      "name": "python3",
      "display_name": "Python 3"
    },
    "accelerator": "GPU"
  },
  "cells": [
    {
      "cell_type": "markdown",
      "metadata": {
        "id": "view-in-github",
        "colab_type": "text"
      },
      "source": [
        "<a href=\"https://colab.research.google.com/github/YoheiMurata/moomoo-lab.keras/blob/master/DCGAN_Character.ipynb\" target=\"_parent\"><img src=\"https://colab.research.google.com/assets/colab-badge.svg\" alt=\"Open In Colab\"/></a>"
      ]
    },
    {
      "cell_type": "markdown",
      "metadata": {
        "id": "u2-U3HxT0ctg",
        "colab_type": "text"
      },
      "source": [
        "# DCGANで好きなキャラクター画像を生成させてみよう\n",
        "DCGANを利用して、好きなキャラクターの画像を生成させてみましょう\n"
      ]
    },
    {
      "cell_type": "code",
      "metadata": {
        "id": "1nvLKd_X7DtM",
        "colab_type": "code",
        "outputId": "3da90591-de73-4adc-d0a8-fc6ffb7c7380",
        "colab": {
          "base_uri": "https://localhost:8080/",
          "height": 80
        }
      },
      "source": [
        "import keras\n",
        "from keras import Sequential, Model\n",
        "from keras.layers.convolutional import Conv2D, Conv2DTranspose\n",
        "from keras.layers import BatchNormalization\n",
        "from keras.layers.advanced_activations import LeakyReLU\n",
        "from keras.layers.core import Activation\n",
        "from keras.layers import Flatten, Dense, Input, Reshape\n",
        "from keras.optimizers import Adam\n",
        "from keras.initializers import RandomNormal as RN\n",
        "import numpy as np\n",
        "\n",
        "from tqdm import tqdm"
      ],
      "execution_count": 1,
      "outputs": [
        {
          "output_type": "stream",
          "text": [
            "Using TensorFlow backend.\n"
          ],
          "name": "stderr"
        },
        {
          "output_type": "display_data",
          "data": {
            "text/html": [
              "<p style=\"color: red;\">\n",
              "The default version of TensorFlow in Colab will soon switch to TensorFlow 2.x.<br>\n",
              "We recommend you <a href=\"https://www.tensorflow.org/guide/migrate\" target=\"_blank\">upgrade</a> now \n",
              "or ensure your notebook will continue to use TensorFlow 1.x via the <code>%tensorflow_version 1.x</code> magic:\n",
              "<a href=\"https://colab.research.google.com/notebooks/tensorflow_version.ipynb\" target=\"_blank\">more info</a>.</p>\n"
            ],
            "text/plain": [
              "<IPython.core.display.HTML object>"
            ]
          },
          "metadata": {
            "tags": []
          }
        }
      ]
    },
    {
      "cell_type": "code",
      "metadata": {
        "id": "TNoaIvxzLZjQ",
        "colab_type": "code",
        "colab": {}
      },
      "source": [
        "# データセット作成に必要なライブラリのインポート\n",
        "from google.colab import drive\n",
        "import os\n",
        "import sys\n",
        "import glob\n",
        "from PIL import Image\n",
        "import datetime\n",
        "import matplotlib.pyplot as plt"
      ],
      "execution_count": 0,
      "outputs": []
    },
    {
      "cell_type": "code",
      "metadata": {
        "id": "scjUDmga7LiJ",
        "colab_type": "code",
        "outputId": "5e9435aa-e878-48f6-9919-54e5cbb7210e",
        "colab": {
          "base_uri": "https://localhost:8080/",
          "height": 122
        }
      },
      "source": [
        "drive.mount('drive')"
      ],
      "execution_count": 6,
      "outputs": [
        {
          "output_type": "stream",
          "text": [
            "Go to this URL in a browser: https://accounts.google.com/o/oauth2/auth?client_id=947318989803-6bn6qk8qdgf4n4g3pfee6491hc0brc4i.apps.googleusercontent.com&redirect_uri=urn%3aietf%3awg%3aoauth%3a2.0%3aoob&response_type=code&scope=email%20https%3a%2f%2fwww.googleapis.com%2fauth%2fdocs.test%20https%3a%2f%2fwww.googleapis.com%2fauth%2fdrive%20https%3a%2f%2fwww.googleapis.com%2fauth%2fdrive.photos.readonly%20https%3a%2f%2fwww.googleapis.com%2fauth%2fpeopleapi.readonly\n",
            "\n",
            "Enter your authorization code:\n",
            "··········\n",
            "Mounted at drive\n"
          ],
          "name": "stdout"
        }
      ]
    },
    {
      "cell_type": "code",
      "metadata": {
        "id": "nm4XbJY8AB_Y",
        "colab_type": "code",
        "colab": {}
      },
      "source": [
        "# 潜在変数の定義\n",
        "noise_dim = 100\n",
        "image_size = 128\n",
        "ALPHA = 0.1"
      ],
      "execution_count": 0,
      "outputs": []
    },
    {
      "cell_type": "code",
      "metadata": {
        "id": "3fuou_nNEu8p",
        "colab_type": "code",
        "colab": {}
      },
      "source": [
        "'''\n",
        "指定したディレクトリ配下の画像ファイル一覧をデータセット化して\n",
        "指定した場所に出力する\n",
        "-----\n",
        "引数:\n",
        "  image_path: 画像ファイル一覧のファイルパス\n",
        "  output_path: データセット出力先のファイルパス\n",
        "  image_size: 出力するデータセット画像のサイズ（正方形)\n",
        "'''\n",
        "def make_dataset( image_path, output_path, image_size = 32 ):\n",
        "  # 指定したパスがなかった場合は終了する\n",
        "  if not os.path.exists( image_path ):\n",
        "    print('no such a path: ' + image_path )\n",
        "    sys.exit( 0 )\n",
        "  image_list = glob.glob( image_path + '*' )\n",
        "\n",
        "  datas = []\n",
        "\n",
        "  for filename in image_list:\n",
        "    # 画像を読み込んでリサイズ\n",
        "    img = Image.open( filename )\n",
        "    img = img.convert('RGB')\n",
        "    img = img.resize( ( image_size, image_size ) )\n",
        "\n",
        "    # 回転の左右反転画像の作成\n",
        "    #for angle in range( -20, 21, 5 ):\n",
        "     # rotate_image = img.rotate( angle )\n",
        "    rotate_flip_image = img.transpose( Image.FLIP_LEFT_RIGHT )\n",
        "     # datas.append( make_data( rotate_image, image_size ) )\n",
        "    datas.append( make_data( rotate_flip_image, image_size ) )\n",
        "  \n",
        "  # ディレクトリが存在しない場合は作成する\n",
        "  if not os.path.exists( output_path ):\n",
        "    os.mkdir( output_path )\n",
        "  # 指定した場所にデータセットを保存\n",
        "  dataset = np.array( datas, dtype = np.float32 )\n",
        "  np.savez( output_path + 'datasets.npz', X = dataset )\n",
        "\n",
        "\n",
        "def make_data( image, image_size ):\n",
        "  data = np.asarray( image )\n",
        "  data = ( data.astype( np.float32 ) - 127.5 ) / 127.5\n",
        "  data = data.reshape( image_size, image_size, 3 )\n",
        "  return data\n",
        "\n"
      ],
      "execution_count": 0,
      "outputs": []
    },
    {
      "cell_type": "code",
      "metadata": {
        "id": "ZIhuZjJZrtcf",
        "colab_type": "code",
        "colab": {}
      },
      "source": [
        "make_dataset('drive/My Drive/kobayashi/kobayashi-02/kanna-for-gan/', 'drive/My Drive/kobayashi/gan_dataset/', image_size = image_size)"
      ],
      "execution_count": 0,
      "outputs": []
    },
    {
      "cell_type": "code",
      "metadata": {
        "id": "Y6vOFCRY8b0g",
        "colab_type": "code",
        "colab": {}
      },
      "source": [
        "datas = np.load('drive/My Drive/kobayashi/gan_dataset/datasets.npz')\n",
        "X = datas['X']"
      ],
      "execution_count": 0,
      "outputs": []
    },
    {
      "cell_type": "code",
      "metadata": {
        "id": "inxxPYnyYkE7",
        "colab_type": "code",
        "outputId": "802cfc97-a636-4979-81d7-078bbb8d403e",
        "colab": {
          "base_uri": "https://localhost:8080/",
          "height": 302
        }
      },
      "source": [
        "plt.imshow(X[20])\n",
        "len(X)"
      ],
      "execution_count": 11,
      "outputs": [
        {
          "output_type": "stream",
          "text": [
            "Clipping input data to the valid range for imshow with RGB data ([0..1] for floats or [0..255] for integers).\n"
          ],
          "name": "stderr"
        },
        {
          "output_type": "execute_result",
          "data": {
            "text/plain": [
              "151"
            ]
          },
          "metadata": {
            "tags": []
          },
          "execution_count": 11
        },
        {
          "output_type": "display_data",
          "data": {
            "image/png": "[encoded data removed]",
            "text/plain": [
              "<Figure size 432x288 with 1 Axes>"
            ]
          },
          "metadata": {
            "tags": []
          }
        }
      ]
    },
    {
      "cell_type": "code",
      "metadata": {
        "id": "9norZ45C9hw4",
        "colab_type": "code",
        "colab": {}
      },
      "source": [
        "'''\n",
        "Generatorの作成\n",
        "'''\n",
        "def make_generator():\n",
        "  model = Sequential()\n",
        "\n",
        "  # 1st layer\n",
        "  model.add( Dense( 1024, input_shape = ( noise_dim, ) ) )\n",
        "  model.add( LeakyReLU( alpha = ALPHA ) )\n",
        "  model.add( Dense( 4 * 4 * 512 ) )\n",
        "  model.add( BatchNormalization() )\n",
        "  model.add(LeakyReLU( alpha = ALPHA )) \n",
        "  model.add( Reshape( ( 4, 4, 512 ) ) )\n",
        "\n",
        "  # 2nd layer\n",
        "  model.add( Conv2DTranspose( filters = 256, kernel_size = 5, strides = 2, padding = 'same', kernel_initializer=RN(mean=0.0, stddev=0.02), use_bias = False ) )\n",
        "  model.add(LeakyReLU( alpha = ALPHA ) )\n",
        "  model.add( Conv2D( filters = 256, kernel_size = 2, padding = 'same', kernel_initializer=RN(mean=0.0, stddev=0.02), use_bias = False ) ) \n",
        "  model.add( LeakyReLU( alpha = ALPHA )) \n",
        "\n",
        "  # 3rd layer\n",
        "  model.add( Conv2DTranspose( filters = 128, kernel_size = 5, strides = 2, padding = 'same', kernel_initializer=RN(mean=0.0, stddev=0.02), use_bias = False ) ) \n",
        "  model.add(LeakyReLU( alpha = ALPHA ) )\n",
        "\n",
        "  # 4th layer\n",
        "  model.add( Conv2DTranspose( filters = 64, kernel_size = 5, strides = 2, padding = 'same', kernel_initializer=RN(mean=0.0, stddev=0.02), use_bias = False ) )\n",
        "  model.add( BatchNormalization() )\n",
        "  model.add( Conv2D( filters = 64, kernel_size = 3, padding = 'same' ) )\n",
        "  model.add( LeakyReLU( alpha = ALPHA ))\n",
        "\n",
        "  # 5th layer\n",
        "  model.add( Conv2DTranspose( filters = 32, kernel_size = 5, strides = 2, padding = 'same', kernel_initializer=RN(mean=0.0, stddev=0.02), use_bias = False ) )\n",
        "  model.add( BatchNormalization() )\n",
        "  model.add( Conv2D( filters = 32, kernel_size = 3, padding = 'same' ) )\n",
        "  model.add( LeakyReLU( alpha = ALPHA ))\n",
        "\n",
        "  # 6th layer\n",
        "  model.add( Conv2DTranspose( filters = 3, kernel_size = 5, strides = 2, padding = 'same', kernel_initializer=RN(mean=0.0, stddev=0.02), use_bias = False ) )\n",
        "  model.add( Activation('tanh') )\n",
        "\n",
        "  return model\n",
        "\n"
      ],
      "execution_count": 0,
      "outputs": []
    },
    {
      "cell_type": "code",
      "metadata": {
        "id": "zqNnC5ZfB-ko",
        "colab_type": "code",
        "colab": {}
      },
      "source": [
        "'''\n",
        "Discriminatorの作成\n",
        "'''\n",
        "def make_discriminator():\n",
        "  model = Sequential()\n",
        "\n",
        "  # 1st layer\n",
        "  model.add( Conv2D( filters = 32, kernel_size = 5, strides = 2, input_shape = ( image_size, image_size, 3 ), padding = 'same', kernel_initializer=RN(mean=0.0, stddev=0.02) ) )\n",
        "  model.add( LeakyReLU( alpha = ALPHA ) )\n",
        "\n",
        "  # 2nd layer\n",
        "  model.add( Conv2D( filters = 64, kernel_size = 5, strides = 2, padding = 'same', kernel_initializer=RN(mean=0.0, stddev=0.02) ) )\n",
        "  model.add( BatchNormalization() )\n",
        "  model.add( LeakyReLU( alpha = ALPHA ) )\n",
        "\n",
        "  # 3rd layer\n",
        "  model.add( Conv2D( filters = 128, kernel_size = 5, strides = 2, padding = 'same', kernel_initializer=RN(mean=0.0, stddev=0.02)) )\n",
        "  model.add( LeakyReLU( alpha = ALPHA ) )\n",
        "  model.add( Flatten() )\n",
        "  model.add( Dense( 1, activation = 'sigmoid' ) )\n",
        "\n",
        "  return model"
      ],
      "execution_count": 0,
      "outputs": []
    },
    {
      "cell_type": "code",
      "metadata": {
        "id": "k2IeeQ9vCmdo",
        "colab_type": "code",
        "colab": {}
      },
      "source": [
        "'''\n",
        "Combinedの作成\n",
        "Combinedは、generatorを学習する用のネットワークのこと\n",
        "'''\n",
        "def make_combined( generator, discriminator ):\n",
        "  discriminator.trainable = False\n",
        "\n",
        "  model = Sequential( [ generator, discriminator ] )\n",
        "\n",
        "  return model"
      ],
      "execution_count": 0,
      "outputs": []
    },
    {
      "cell_type": "code",
      "metadata": {
        "id": "8KrJmpZ3lDW5",
        "colab_type": "code",
        "colab": {}
      },
      "source": [
        "'''\n",
        "生成した画像の表示と保存\n",
        "'''\n",
        "FAKE_IMAGE_PATH = 'drive/My Drive/kobayashi/genImage/'\n",
        "def saveImage( iteration, noise ):\n",
        "  fig, axes = plt.subplots( 5, 5 )\n",
        "  images = generator.predict( noise )\n",
        "  images = images * 127.5 + 127.5\n",
        "  images = images.astype( np.int32 )\n",
        "\n",
        "  for img, ax in zip( images, axes.flatten() ):\n",
        "    ax.imshow( img )\n",
        "    ax.axis('off')\n",
        "  \n",
        "  if not os.path.exists(FAKE_IMAGE_PATH):\n",
        "    os.mkdir(FAKE_IMAGE_PATH)\n",
        "\n",
        "  fname = FAKE_IMAGE_PATH + 'generate_%05d.png' % iteration\n",
        "  fig.savefig( fname )\n",
        "\n",
        "  plt.close()\n"
      ],
      "execution_count": 0,
      "outputs": []
    },
    {
      "cell_type": "code",
      "metadata": {
        "id": "aiazFJtwJpM6",
        "colab_type": "code",
        "outputId": "e9ef5ae6-075b-4167-d666-5b34b27452ad",
        "colab": {
          "base_uri": "https://localhost:8080/",
          "height": 785
        }
      },
      "source": [
        "'''\n",
        "モデルの作成と学習を始める\n",
        "'''\n",
        "# 学習済モデルが存在した場合は、\bロードして学習を再開する\n",
        "generator = make_generator()\n",
        "if os.path.exists('drive/My Drive/kobayashi/generator.hdf5'):\n",
        "  generator.load_weights('drive/My Drive/kobayashi/generator.hdf5')\n",
        "\n",
        "# 学習済モデルが存在した場合は、\bロードして学習を再開する\n",
        "discriminator = make_discriminator()\n",
        "# discriminatorをコンパイルする\n",
        "if os.path.exists('drive/My Drive/kobayashi/discriminator.hdf5'):\n",
        "  discriminator.load_weights('drive/My Drive/kobayashi/discriminator.hdf5')\n",
        "discriminator.compile( loss = 'binary_crossentropy', optimizer = Adam( lr = 0.0001, beta_1 = 0.3 ), metrics = [ 'accuracy' ] )\n",
        "\n",
        "# combinedをコンパイルする\n",
        "combined = make_combined( generator, discriminator )\n",
        "combined.compile( loss = 'binary_crossentropy', optimizer = Adam( lr = 0.0001, beta_1 = 0.3 ), metrics = [ 'accuracy' ] )\n",
        "#combined.summary()\n",
        "\n",
        "\n",
        "timestamp = datetime.datetime.now().strftime(\"%H:%M:%S\")\n",
        "checkPointNoise = np.random.uniform( -1, 1, ( 25, noise_dim ) )\n",
        "\n",
        "batch_size = 500\n",
        "iteration = 20000\n",
        "checkpoint = 100\n",
        "\n",
        "try:\n",
        "\n",
        "  for i in tqdm( range( iteration ) ):  \n",
        "    idx = np.random.randint( 0, len( X ), batch_size )\n",
        "\n",
        "    realImages = X[ idx ]\n",
        "    realImages = realImages.reshape( batch_size, image_size, image_size, 3 )\n",
        "\n",
        "    noise = np.random.uniform( -1, 1, size = ( batch_size, noise_dim ) )\n",
        "    generatedImages = generator.predict( noise )\n",
        "\n",
        "    d_loss_real = discriminator.train_on_batch( realImages, np.ones( ( batch_size, 1 ) ) )\n",
        "    d_loss_fake = discriminator.train_on_batch( generatedImages, np.zeros( ( batch_size, 1 ) ) )\n",
        "    d_loss = 0.5 * np.add( d_loss_real, d_loss_fake ) \n",
        "\n",
        "    noise = np.random.uniform( -1, 1, size = ( batch_size, noise_dim ) )\n",
        "    g_loss = combined.train_on_batch( noise, np.ones( ( batch_size, 1 ) ) )\n",
        "\n",
        "    if i % checkpoint == 0:\n",
        "      saveImage( i, checkPointNoise )\n",
        "      print('d_loss_real: {}, d_loss_fake: {}, g_loss: {}, batch_size: {}'.format(d_loss_real, d_loss_fake, g_loss, batch_size)) \n",
        "    \n",
        "    if i % 2000 == 0:\n",
        "      discriminator.save('drive/My Drive/kobayashi/discriminator{}.hdf5'.format(i))\n",
        "      generator.save('drive/My Drive/kobayashi/generator{}.hdf5'.format(i))\n",
        "\n",
        "except Exception as e:\n",
        "  print(e)\n",
        "finally:\n",
        "  discriminator.save('drive/My Drive/kobayashi/discriminator.hdf5')\n",
        "  generator.save('drive/My Drive/kobayashi/generator.hdf5')\n"
      ],
      "execution_count": 0,
      "outputs": [
        {
          "output_type": "stream",
          "text": [
            "WARNING:tensorflow:From /usr/local/lib/python3.6/dist-packages/keras/backend/tensorflow_backend.py:66: The name tf.get_default_graph is deprecated. Please use tf.compat.v1.get_default_graph instead.\n",
            "\n",
            "WARNING:tensorflow:From /usr/local/lib/python3.6/dist-packages/keras/backend/tensorflow_backend.py:541: The name tf.placeholder is deprecated. Please use tf.compat.v1.placeholder instead.\n",
            "\n",
            "WARNING:tensorflow:From /usr/local/lib/python3.6/dist-packages/keras/backend/tensorflow_backend.py:4432: The name tf.random_uniform is deprecated. Please use tf.random.uniform instead.\n",
            "\n",
            "WARNING:tensorflow:From /usr/local/lib/python3.6/dist-packages/keras/backend/tensorflow_backend.py:148: The name tf.placeholder_with_default is deprecated. Please use tf.compat.v1.placeholder_with_default instead.\n",
            "\n",
            "WARNING:tensorflow:From /usr/local/lib/python3.6/dist-packages/keras/backend/tensorflow_backend.py:4409: The name tf.random_normal is deprecated. Please use tf.random.normal instead.\n",
            "\n",
            "WARNING:tensorflow:From /usr/local/lib/python3.6/dist-packages/keras/backend/tensorflow_backend.py:190: The name tf.get_default_session is deprecated. Please use tf.compat.v1.get_default_session instead.\n",
            "\n",
            "WARNING:tensorflow:From /usr/local/lib/python3.6/dist-packages/keras/backend/tensorflow_backend.py:197: The name tf.ConfigProto is deprecated. Please use tf.compat.v1.ConfigProto instead.\n",
            "\n",
            "WARNING:tensorflow:From /usr/local/lib/python3.6/dist-packages/keras/backend/tensorflow_backend.py:203: The name tf.Session is deprecated. Please use tf.compat.v1.Session instead.\n",
            "\n",
            "WARNING:tensorflow:From /usr/local/lib/python3.6/dist-packages/keras/backend/tensorflow_backend.py:207: The name tf.global_variables is deprecated. Please use tf.compat.v1.global_variables instead.\n",
            "\n",
            "WARNING:tensorflow:From /usr/local/lib/python3.6/dist-packages/keras/backend/tensorflow_backend.py:216: The name tf.is_variable_initialized is deprecated. Please use tf.compat.v1.is_variable_initialized instead.\n",
            "\n",
            "WARNING:tensorflow:From /usr/local/lib/python3.6/dist-packages/keras/backend/tensorflow_backend.py:223: The name tf.variables_initializer is deprecated. Please use tf.compat.v1.variables_initializer instead.\n",
            "\n",
            "WARNING:tensorflow:From /usr/local/lib/python3.6/dist-packages/keras/backend/tensorflow_backend.py:2041: The name tf.nn.fused_batch_norm is deprecated. Please use tf.compat.v1.nn.fused_batch_norm instead.\n",
            "\n",
            "WARNING:tensorflow:From /usr/local/lib/python3.6/dist-packages/keras/optimizers.py:793: The name tf.train.Optimizer is deprecated. Please use tf.compat.v1.train.Optimizer instead.\n",
            "\n",
            "WARNING:tensorflow:From /usr/local/lib/python3.6/dist-packages/keras/backend/tensorflow_backend.py:3657: The name tf.log is deprecated. Please use tf.math.log instead.\n",
            "\n",
            "WARNING:tensorflow:From /usr/local/lib/python3.6/dist-packages/tensorflow_core/python/ops/nn_impl.py:183: where (from tensorflow.python.ops.array_ops) is deprecated and will be removed in a future version.\n",
            "Instructions for updating:\n",
            "Use tf.where in 2.0, which has the same broadcast rule as np.where\n"
          ],
          "name": "stdout"
        },
        {
          "output_type": "stream",
          "text": [
            "\r  0%|          | 0/20000 [00:00<?, ?it/s]"
          ],
          "name": "stderr"
        },
        {
          "output_type": "stream",
          "text": [
            "WARNING:tensorflow:From /usr/local/lib/python3.6/dist-packages/keras/backend/tensorflow_backend.py:1033: The name tf.assign_add is deprecated. Please use tf.compat.v1.assign_add instead.\n",
            "\n"
          ],
          "name": "stdout"
        },
        {
          "output_type": "stream",
          "text": [
            "/usr/local/lib/python3.6/dist-packages/keras/engine/training.py:493: UserWarning: Discrepancy between trainable weights and collected trainable weights, did you set `model.trainable` without calling `model.compile` after ?\n",
            "  'Discrepancy between trainable weights and collected trainable'\n"
          ],
          "name": "stderr"
        },
        {
          "output_type": "stream",
          "text": [
            "WARNING:tensorflow:From /usr/local/lib/python3.6/dist-packages/keras/backend/tensorflow_backend.py:1020: The name tf.assign is deprecated. Please use tf.compat.v1.assign instead.\n",
            "\n"
          ],
          "name": "stdout"
        },
        {
          "output_type": "stream",
          "text": [
            "/usr/local/lib/python3.6/dist-packages/keras/engine/training.py:493: UserWarning: Discrepancy between trainable weights and collected trainable weights, did you set `model.trainable` without calling `model.compile` after ?\n",
            "  'Discrepancy between trainable weights and collected trainable'\n"
          ],
          "name": "stderr"
        },
        {
          "output_type": "stream",
          "text": [
            "d_loss_real: [7.8440235e-07, 1.0], d_loss_fake: [1.00000015e-07, 1.0], g_loss: [16.118095, 0.0], batch_size: 500\n"
          ],
          "name": "stdout"
        },
        {
          "output_type": "stream",
          "text": [
            "\r  0%|          | 1/20000 [00:18<102:28:00, 18.44s/it]/usr/local/lib/python3.6/dist-packages/keras/engine/training.py:493: UserWarning: Discrepancy between trainable weights and collected trainable weights, did you set `model.trainable` without calling `model.compile` after ?\n",
            "  'Discrepancy between trainable weights and collected trainable'\n",
            "  1%|          | 101/20000 [02:55<10:03:24,  1.82s/it]"
          ],
          "name": "stderr"
        },
        {
          "output_type": "stream",
          "text": [
            "d_loss_real: [1.1920935e-07, 1.0], d_loss_fake: [1.00000015e-07, 1.0], g_loss: [16.118095, 0.0], batch_size: 500\n"
          ],
          "name": "stdout"
        },
        {
          "output_type": "stream",
          "text": [
            "  1%|          | 111/20000 [03:11<8:47:21,  1.59s/it]"
          ],
          "name": "stderr"
        }
      ]
    }
  ]
}